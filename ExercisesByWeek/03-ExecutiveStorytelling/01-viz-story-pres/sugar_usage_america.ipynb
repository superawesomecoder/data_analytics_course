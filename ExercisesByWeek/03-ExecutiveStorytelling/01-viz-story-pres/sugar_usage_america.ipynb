{
 "cells": [
  {
   "cell_type": "code",
   "execution_count": 3,
   "metadata": {
    "collapsed": true
   },
   "outputs": [],
   "source": [
    "import json\n",
    "import pandas as pd\n",
    "import os"
   ]
  },
  {
   "cell_type": "code",
   "execution_count": 8,
   "metadata": {
    "collapsed": true
   },
   "outputs": [],
   "source": [
    "%matplotlib inline"
   ]
  },
  {
   "cell_type": "code",
   "execution_count": 4,
   "metadata": {
    "collapsed": false
   },
   "outputs": [
    {
     "data": {
      "text/plain": [
       "['json',\n",
       " 'max_survey.csv',\n",
       " '.ipynb_checkpoints',\n",
       " 'Untitled.ipynb',\n",
       " 'nutrition_data_by_country.csv']"
      ]
     },
     "execution_count": 4,
     "metadata": {},
     "output_type": "execute_result"
    }
   ],
   "source": [
    "bos.listdir()"
   ]
  },
  {
   "cell_type": "code",
   "execution_count": 6,
   "metadata": {
    "collapsed": false
   },
   "outputs": [
    {
     "data": {
      "text/html": [
       "<div>\n",
       "<table border=\"1\" class=\"dataframe\">\n",
       "  <thead>\n",
       "    <tr style=\"text-align: right;\">\n",
       "      <th></th>\n",
       "      <th>Calendar year</th>\n",
       "      <th>U.S. population 3/</th>\n",
       "      <th>Refined sugar 4/</th>\n",
       "      <th>HFCS</th>\n",
       "      <th>Corn-Glucose syrup</th>\n",
       "      <th>Corn-Dextrose</th>\n",
       "      <th>Corn-Total</th>\n",
       "      <th>Pure honey</th>\n",
       "      <th>Edible syrups</th>\n",
       "      <th>Total caloric sweeteners</th>\n",
       "    </tr>\n",
       "  </thead>\n",
       "  <tbody>\n",
       "    <tr>\n",
       "      <th>0</th>\n",
       "      <td>1966</td>\n",
       "      <td>196.6</td>\n",
       "      <td>97.3</td>\n",
       "      <td>0.0</td>\n",
       "      <td>9.7</td>\n",
       "      <td>4.2</td>\n",
       "      <td>13.9</td>\n",
       "      <td>1.0</td>\n",
       "      <td>0.7</td>\n",
       "      <td>112.9</td>\n",
       "    </tr>\n",
       "    <tr>\n",
       "      <th>1</th>\n",
       "      <td>1967</td>\n",
       "      <td>198.7</td>\n",
       "      <td>98.5</td>\n",
       "      <td>0.0</td>\n",
       "      <td>9.9</td>\n",
       "      <td>4.3</td>\n",
       "      <td>14.2</td>\n",
       "      <td>0.9</td>\n",
       "      <td>0.5</td>\n",
       "      <td>114.2</td>\n",
       "    </tr>\n",
       "    <tr>\n",
       "      <th>2</th>\n",
       "      <td>1968</td>\n",
       "      <td>200.7</td>\n",
       "      <td>99.2</td>\n",
       "      <td>0.1</td>\n",
       "      <td>10.3</td>\n",
       "      <td>4.4</td>\n",
       "      <td>14.8</td>\n",
       "      <td>0.9</td>\n",
       "      <td>0.7</td>\n",
       "      <td>115.7</td>\n",
       "    </tr>\n",
       "    <tr>\n",
       "      <th>3</th>\n",
       "      <td>1969</td>\n",
       "      <td>201.4</td>\n",
       "      <td>101.0</td>\n",
       "      <td>0.3</td>\n",
       "      <td>10.5</td>\n",
       "      <td>4.5</td>\n",
       "      <td>15.3</td>\n",
       "      <td>1.0</td>\n",
       "      <td>0.6</td>\n",
       "      <td>117.9</td>\n",
       "    </tr>\n",
       "    <tr>\n",
       "      <th>4</th>\n",
       "      <td>1970</td>\n",
       "      <td>204.0</td>\n",
       "      <td>101.8</td>\n",
       "      <td>0.5</td>\n",
       "      <td>10.7</td>\n",
       "      <td>4.6</td>\n",
       "      <td>15.9</td>\n",
       "      <td>1.0</td>\n",
       "      <td>0.5</td>\n",
       "      <td>119.1</td>\n",
       "    </tr>\n",
       "  </tbody>\n",
       "</table>\n",
       "</div>"
      ],
      "text/plain": [
       "   Calendar year  U.S. population 3/  Refined sugar 4/  HFCS  \\\n",
       "0           1966               196.6              97.3   0.0   \n",
       "1           1967               198.7              98.5   0.0   \n",
       "2           1968               200.7              99.2   0.1   \n",
       "3           1969               201.4             101.0   0.3   \n",
       "4           1970               204.0             101.8   0.5   \n",
       "\n",
       "   Corn-Glucose syrup  Corn-Dextrose  Corn-Total  Pure honey  Edible syrups  \\\n",
       "0                 9.7            4.2        13.9         1.0            0.7   \n",
       "1                 9.9            4.3        14.2         0.9            0.5   \n",
       "2                10.3            4.4        14.8         0.9            0.7   \n",
       "3                10.5            4.5        15.3         1.0            0.6   \n",
       "4                10.7            4.6        15.9         1.0            0.5   \n",
       "\n",
       "   Total caloric sweeteners  \n",
       "0                     112.9  \n",
       "1                     114.2  \n",
       "2                     115.7  \n",
       "3                     117.9  \n",
       "4                     119.1  "
      ]
     },
     "execution_count": 6,
     "metadata": {},
     "output_type": "execute_result"
    }
   ],
   "source": [
    "df = pd.read_csv('table50.csv')\n",
    "df.head()"
   ]
  },
  {
   "cell_type": "code",
   "execution_count": 9,
   "metadata": {
    "collapsed": false
   },
   "outputs": [
    {
     "data": {
      "text/plain": [
       "<matplotlib.axes._subplots.AxesSubplot at 0x7f536d1b1f98>"
      ]
     },
     "execution_count": 9,
     "metadata": {},
     "output_type": "execute_result"
    },
    {
     "data": {
      "image/png": "[encoded data removed]",
      "text/plain": [
       "<matplotlib.figure.Figure at 0x7f536ad75048>"
      ]
     },
     "metadata": {},
     "output_type": "display_data"
    }
   ],
   "source": [
    "df.plot(x='Calendar year', y='HFCS')"
   ]
  },
  {
   "cell_type": "code",
   "execution_count": 11,
   "metadata": {
    "collapsed": false
   },
   "outputs": [
    {
     "data": {
      "text/plain": [
       "<matplotlib.axes._subplots.AxesSubplot at 0x7f536adaa2e8>"
      ]
     },
     "execution_count": 11,
     "metadata": {},
     "output_type": "execute_result"
    },
    {
     "data": {
      "image/png": "[encoded data removed]",
      "text/plain": [
       "<matplotlib.figure.Figure at 0x7f536ad2f710>"
      ]
     },
     "metadata": {},
     "output_type": "display_data"
    }
   ],
   "source": [
    "df.plot(x='Calendar year', y='Total caloric sweeteners')"
   ]
  },
  {
   "cell_type": "code",
   "execution_count": 12,
   "metadata": {
    "collapsed": false
   },
   "outputs": [
    {
     "data": {
      "text/html": [
       "<div>\n",
       "<table border=\"1\" class=\"dataframe\">\n",
       "  <thead>\n",
       "    <tr style=\"text-align: right;\">\n",
       "      <th></th>\n",
       "      <th>Calendar year</th>\n",
       "      <th>U.S. population 3/</th>\n",
       "      <th>Refined sugar 4/</th>\n",
       "      <th>HFCS</th>\n",
       "      <th>Corn-Glucose syrup</th>\n",
       "      <th>Corn-Dextrose</th>\n",
       "      <th>Corn-Total</th>\n",
       "      <th>Pure honey</th>\n",
       "      <th>Edible syrups</th>\n",
       "      <th>Total caloric sweeteners</th>\n",
       "    </tr>\n",
       "  </thead>\n",
       "  <tbody>\n",
       "    <tr>\n",
       "      <th>Calendar year</th>\n",
       "      <td>1.000000</td>\n",
       "      <td>0.997763</td>\n",
       "      <td>-0.805074</td>\n",
       "      <td>0.832988</td>\n",
       "      <td>0.416765</td>\n",
       "      <td>-0.866450</td>\n",
       "      <td>0.811348</td>\n",
       "      <td>0.441821</td>\n",
       "      <td>0.493051</td>\n",
       "      <td>0.691736</td>\n",
       "    </tr>\n",
       "    <tr>\n",
       "      <th>U.S. population 3/</th>\n",
       "      <td>0.997763</td>\n",
       "      <td>1.000000</td>\n",
       "      <td>-0.772930</td>\n",
       "      <td>0.809498</td>\n",
       "      <td>0.390222</td>\n",
       "      <td>-0.858574</td>\n",
       "      <td>0.786961</td>\n",
       "      <td>0.467031</td>\n",
       "      <td>0.534958</td>\n",
       "      <td>0.683060</td>\n",
       "    </tr>\n",
       "    <tr>\n",
       "      <th>Refined sugar 4/</th>\n",
       "      <td>-0.805074</td>\n",
       "      <td>-0.772930</td>\n",
       "      <td>1.000000</td>\n",
       "      <td>-0.958900</td>\n",
       "      <td>-0.598244</td>\n",
       "      <td>0.757814</td>\n",
       "      <td>-0.948534</td>\n",
       "      <td>-0.102514</td>\n",
       "      <td>-0.095412</td>\n",
       "      <td>-0.717149</td>\n",
       "    </tr>\n",
       "    <tr>\n",
       "      <th>HFCS</th>\n",
       "      <td>0.832988</td>\n",
       "      <td>0.809498</td>\n",
       "      <td>-0.958900</td>\n",
       "      <td>1.000000</td>\n",
       "      <td>0.707569</td>\n",
       "      <td>-0.695033</td>\n",
       "      <td>0.997891</td>\n",
       "      <td>0.153042</td>\n",
       "      <td>0.178380</td>\n",
       "      <td>0.882794</td>\n",
       "    </tr>\n",
       "    <tr>\n",
       "      <th>Corn-Glucose syrup</th>\n",
       "      <td>0.416765</td>\n",
       "      <td>0.390222</td>\n",
       "      <td>-0.598244</td>\n",
       "      <td>0.707569</td>\n",
       "      <td>1.000000</td>\n",
       "      <td>-0.207145</td>\n",
       "      <td>0.750813</td>\n",
       "      <td>-0.096959</td>\n",
       "      <td>-0.174597</td>\n",
       "      <td>0.824911</td>\n",
       "    </tr>\n",
       "    <tr>\n",
       "      <th>Corn-Dextrose</th>\n",
       "      <td>-0.866450</td>\n",
       "      <td>-0.858574</td>\n",
       "      <td>0.757814</td>\n",
       "      <td>-0.695033</td>\n",
       "      <td>-0.207145</td>\n",
       "      <td>1.000000</td>\n",
       "      <td>-0.659685</td>\n",
       "      <td>-0.351752</td>\n",
       "      <td>-0.375505</td>\n",
       "      <td>-0.422407</td>\n",
       "    </tr>\n",
       "    <tr>\n",
       "      <th>Corn-Total</th>\n",
       "      <td>0.811348</td>\n",
       "      <td>0.786961</td>\n",
       "      <td>-0.948534</td>\n",
       "      <td>0.997891</td>\n",
       "      <td>0.750813</td>\n",
       "      <td>-0.659685</td>\n",
       "      <td>1.000000</td>\n",
       "      <td>0.131329</td>\n",
       "      <td>0.149181</td>\n",
       "      <td>0.900809</td>\n",
       "    </tr>\n",
       "    <tr>\n",
       "      <th>Pure honey</th>\n",
       "      <td>0.441821</td>\n",
       "      <td>0.467031</td>\n",
       "      <td>-0.102514</td>\n",
       "      <td>0.153042</td>\n",
       "      <td>-0.096959</td>\n",
       "      <td>-0.351752</td>\n",
       "      <td>0.131329</td>\n",
       "      <td>1.000000</td>\n",
       "      <td>0.642816</td>\n",
       "      <td>0.167282</td>\n",
       "    </tr>\n",
       "    <tr>\n",
       "      <th>Edible syrups</th>\n",
       "      <td>0.493051</td>\n",
       "      <td>0.534958</td>\n",
       "      <td>-0.095412</td>\n",
       "      <td>0.178380</td>\n",
       "      <td>-0.174597</td>\n",
       "      <td>-0.375505</td>\n",
       "      <td>0.149181</td>\n",
       "      <td>0.642816</td>\n",
       "      <td>1.000000</td>\n",
       "      <td>0.219183</td>\n",
       "    </tr>\n",
       "    <tr>\n",
       "      <th>Total caloric sweeteners</th>\n",
       "      <td>0.691736</td>\n",
       "      <td>0.683060</td>\n",
       "      <td>-0.717149</td>\n",
       "      <td>0.882794</td>\n",
       "      <td>0.824911</td>\n",
       "      <td>-0.422407</td>\n",
       "      <td>0.900809</td>\n",
       "      <td>0.167282</td>\n",
       "      <td>0.219183</td>\n",
       "      <td>1.000000</td>\n",
       "    </tr>\n",
       "  </tbody>\n",
       "</table>\n",
       "</div>"
      ],
      "text/plain": [
       "                          Calendar year  U.S. population 3/  Refined sugar 4/  \\\n",
       "Calendar year                  1.000000            0.997763         -0.805074   \n",
       "U.S. population 3/             0.997763            1.000000         -0.772930   \n",
       "Refined sugar 4/              -0.805074           -0.772930          1.000000   \n",
       "HFCS                           0.832988            0.809498         -0.958900   \n",
       "Corn-Glucose syrup             0.416765            0.390222         -0.598244   \n",
       "Corn-Dextrose                 -0.866450           -0.858574          0.757814   \n",
       "Corn-Total                     0.811348            0.786961         -0.948534   \n",
       "Pure honey                     0.441821            0.467031         -0.102514   \n",
       "Edible syrups                  0.493051            0.534958         -0.095412   \n",
       "Total caloric sweeteners       0.691736            0.683060         -0.717149   \n",
       "\n",
       "                              HFCS  Corn-Glucose syrup  Corn-Dextrose  \\\n",
       "Calendar year             0.832988            0.416765      -0.866450   \n",
       "U.S. population 3/        0.809498            0.390222      -0.858574   \n",
       "Refined sugar 4/         -0.958900           -0.598244       0.757814   \n",
       "HFCS                      1.000000            0.707569      -0.695033   \n",
       "Corn-Glucose syrup        0.707569            1.000000      -0.207145   \n",
       "Corn-Dextrose            -0.695033           -0.207145       1.000000   \n",
       "Corn-Total                0.997891            0.750813      -0.659685   \n",
       "Pure honey                0.153042           -0.096959      -0.351752   \n",
       "Edible syrups             0.178380           -0.174597      -0.375505   \n",
       "Total caloric sweeteners  0.882794            0.824911      -0.422407   \n",
       "\n",
       "                          Corn-Total  Pure honey  Edible syrups  \\\n",
       "Calendar year               0.811348    0.441821       0.493051   \n",
       "U.S. population 3/          0.786961    0.467031       0.534958   \n",
       "Refined sugar 4/           -0.948534   -0.102514      -0.095412   \n",
       "HFCS                        0.997891    0.153042       0.178380   \n",
       "Corn-Glucose syrup          0.750813   -0.096959      -0.174597   \n",
       "Corn-Dextrose              -0.659685   -0.351752      -0.375505   \n",
       "Corn-Total                  1.000000    0.131329       0.149181   \n",
       "Pure honey                  0.131329    1.000000       0.642816   \n",
       "Edible syrups               0.149181    0.642816       1.000000   \n",
       "Total caloric sweeteners    0.900809    0.167282       0.219183   \n",
       "\n",
       "                          Total caloric sweeteners  \n",
       "Calendar year                             0.691736  \n",
       "U.S. population 3/                        0.683060  \n",
       "Refined sugar 4/                         -0.717149  \n",
       "HFCS                                      0.882794  \n",
       "Corn-Glucose syrup                        0.824911  \n",
       "Corn-Dextrose                            -0.422407  \n",
       "Corn-Total                                0.900809  \n",
       "Pure honey                                0.167282  \n",
       "Edible syrups                             0.219183  \n",
       "Total caloric sweeteners                  1.000000  "
      ]
     },
     "execution_count": 12,
     "metadata": {},
     "output_type": "execute_result"
    }
   ],
   "source": [
    "df.corr()"
   ]
  },
  {
   "cell_type": "code",
   "execution_count": 14,
   "metadata": {
    "collapsed": false
   },
   "outputs": [
    {
     "data": {
      "text/plain": [
       "<matplotlib.axes._subplots.AxesSubplot at 0x7f536d1b8400>"
      ]
     },
     "execution_count": 14,
     "metadata": {},
     "output_type": "execute_result"
    },
    {
     "data": {
      "image/png": "[encoded data removed]",
      "text/plain": [
       "<matplotlib.figure.Figure at 0x7f536a9a0358>"
      ]
     },
     "metadata": {},
     "output_type": "display_data"
    }
   ],
   "source": [
    "df.plot(x='Calendar year', y='Refined sugar 4/')"
   ]
  },
  {
   "cell_type": "code",
   "execution_count": null,
   "metadata": {
    "collapsed": true
   },
   "outputs": [],
   "source": []
  }
 ],
 "metadata": {
  "anaconda-cloud": {},
  "kernelspec": {
   "display_name": "Python [conda root]",
   "language": "python",
   "name": "conda-root-py"
  },
  "language_info": {
   "codemirror_mode": {
    "name": "ipython",
    "version": 3
   },
   "file_extension": ".py",
   "mimetype": "text/x-python",
   "name": "python",
   "nbconvert_exporter": "python",
   "pygments_lexer": "ipython3",
   "version": "3.5.2"
  }
 },
 "nbformat": 4,
 "nbformat_minor": 1
}

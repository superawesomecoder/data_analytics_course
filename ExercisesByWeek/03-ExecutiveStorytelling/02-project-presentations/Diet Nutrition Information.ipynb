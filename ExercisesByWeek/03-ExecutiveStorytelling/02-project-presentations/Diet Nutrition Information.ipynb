{
 "cells": [
  {
   "cell_type": "code",
   "execution_count": 6,
   "metadata": {
    "collapsed": true
   },
   "outputs": [],
   "source": [
    "import xport\n",
    "import pandas as pd"
   ]
  },
  {
   "cell_type": "code",
   "execution_count": 30,
   "metadata": {
    "collapsed": true
   },
   "outputs": [],
   "source": [
    "%matplotlib inline"
   ]
  },
  {
   "cell_type": "code",
   "execution_count": null,
   "metadata": {
    "collapsed": true
   },
   "outputs": [],
   "source": [
    "#  Source: https://wwwn.cdc.gov/Nchs/Nhanes/2013-2014/DR1IFF_H.htm\n",
    "# https://wwwn.cdc.gov/Nchs/Nhanes/2013-2014/DR1IFF_H.htm#DR1_040Z"
   ]
  },
  {
   "cell_type": "code",
   "execution_count": null,
   "metadata": {
    "collapsed": true
   },
   "outputs": [],
   "source": [
    "# wget https://wwwn.cdc.gov/Nchs/Nhanes/2013-2014/DR1IFF_H.XPT"
   ]
  },
  {
   "cell_type": "code",
   "execution_count": 2,
   "metadata": {
    "collapsed": true
   },
   "outputs": [],
   "source": [
    "with open('DR1IFF_H.XPT', 'rb') as f:\n",
    "    df = xport.to_dataframe(f)"
   ]
  },
  {
   "cell_type": "code",
   "execution_count": 3,
   "metadata": {
    "collapsed": false
   },
   "outputs": [
    {
     "data": {
      "text/html": [
       "<div>\n",
       "<table border=\"1\" class=\"dataframe\">\n",
       "  <thead>\n",
       "    <tr style=\"text-align: right;\">\n",
       "      <th></th>\n",
       "      <th>SEQN</th>\n",
       "      <th>WTDRD1</th>\n",
       "      <th>WTDR2D</th>\n",
       "      <th>DR1ILINE</th>\n",
       "      <th>DR1DRSTZ</th>\n",
       "      <th>DR1EXMER</th>\n",
       "      <th>DRABF</th>\n",
       "      <th>DRDINT</th>\n",
       "      <th>DR1DBIH</th>\n",
       "      <th>DR1DAY</th>\n",
       "      <th>...</th>\n",
       "      <th>DR1IM181</th>\n",
       "      <th>DR1IM201</th>\n",
       "      <th>DR1IM221</th>\n",
       "      <th>DR1IP182</th>\n",
       "      <th>DR1IP183</th>\n",
       "      <th>DR1IP184</th>\n",
       "      <th>DR1IP204</th>\n",
       "      <th>DR1IP205</th>\n",
       "      <th>DR1IP225</th>\n",
       "      <th>DR1IP226</th>\n",
       "    </tr>\n",
       "  </thead>\n",
       "  <tbody>\n",
       "    <tr>\n",
       "      <th>0</th>\n",
       "      <td>73557.0</td>\n",
       "      <td>16888.327864</td>\n",
       "      <td>12930.890649</td>\n",
       "      <td>1.0</td>\n",
       "      <td>1.0</td>\n",
       "      <td>49.0</td>\n",
       "      <td>2.0</td>\n",
       "      <td>2.0</td>\n",
       "      <td>6.0</td>\n",
       "      <td>2.0</td>\n",
       "      <td>...</td>\n",
       "      <td>3.595</td>\n",
       "      <td>0.034</td>\n",
       "      <td>0.001</td>\n",
       "      <td>0.949</td>\n",
       "      <td>0.108</td>\n",
       "      <td>0.0</td>\n",
       "      <td>0.051</td>\n",
       "      <td>0.001</td>\n",
       "      <td>0.0</td>\n",
       "      <td>0.01</td>\n",
       "    </tr>\n",
       "    <tr>\n",
       "      <th>1</th>\n",
       "      <td>73557.0</td>\n",
       "      <td>16888.327864</td>\n",
       "      <td>12930.890649</td>\n",
       "      <td>2.0</td>\n",
       "      <td>1.0</td>\n",
       "      <td>49.0</td>\n",
       "      <td>2.0</td>\n",
       "      <td>2.0</td>\n",
       "      <td>6.0</td>\n",
       "      <td>2.0</td>\n",
       "      <td>...</td>\n",
       "      <td>0.000</td>\n",
       "      <td>0.000</td>\n",
       "      <td>0.000</td>\n",
       "      <td>0.004</td>\n",
       "      <td>0.000</td>\n",
       "      <td>0.0</td>\n",
       "      <td>0.000</td>\n",
       "      <td>0.000</td>\n",
       "      <td>0.0</td>\n",
       "      <td>0.00</td>\n",
       "    </tr>\n",
       "    <tr>\n",
       "      <th>2</th>\n",
       "      <td>73557.0</td>\n",
       "      <td>16888.327864</td>\n",
       "      <td>12930.890649</td>\n",
       "      <td>3.0</td>\n",
       "      <td>1.0</td>\n",
       "      <td>49.0</td>\n",
       "      <td>2.0</td>\n",
       "      <td>2.0</td>\n",
       "      <td>6.0</td>\n",
       "      <td>2.0</td>\n",
       "      <td>...</td>\n",
       "      <td>0.000</td>\n",
       "      <td>0.000</td>\n",
       "      <td>0.000</td>\n",
       "      <td>0.000</td>\n",
       "      <td>0.000</td>\n",
       "      <td>0.0</td>\n",
       "      <td>0.000</td>\n",
       "      <td>0.000</td>\n",
       "      <td>0.0</td>\n",
       "      <td>0.00</td>\n",
       "    </tr>\n",
       "    <tr>\n",
       "      <th>3</th>\n",
       "      <td>73557.0</td>\n",
       "      <td>16888.327864</td>\n",
       "      <td>12930.890649</td>\n",
       "      <td>4.0</td>\n",
       "      <td>1.0</td>\n",
       "      <td>49.0</td>\n",
       "      <td>2.0</td>\n",
       "      <td>2.0</td>\n",
       "      <td>6.0</td>\n",
       "      <td>2.0</td>\n",
       "      <td>...</td>\n",
       "      <td>0.081</td>\n",
       "      <td>0.000</td>\n",
       "      <td>0.000</td>\n",
       "      <td>0.103</td>\n",
       "      <td>0.031</td>\n",
       "      <td>0.0</td>\n",
       "      <td>0.000</td>\n",
       "      <td>0.000</td>\n",
       "      <td>0.0</td>\n",
       "      <td>0.00</td>\n",
       "    </tr>\n",
       "    <tr>\n",
       "      <th>4</th>\n",
       "      <td>73557.0</td>\n",
       "      <td>16888.327864</td>\n",
       "      <td>12930.890649</td>\n",
       "      <td>5.0</td>\n",
       "      <td>1.0</td>\n",
       "      <td>49.0</td>\n",
       "      <td>2.0</td>\n",
       "      <td>2.0</td>\n",
       "      <td>6.0</td>\n",
       "      <td>2.0</td>\n",
       "      <td>...</td>\n",
       "      <td>0.026</td>\n",
       "      <td>0.000</td>\n",
       "      <td>0.000</td>\n",
       "      <td>0.024</td>\n",
       "      <td>0.009</td>\n",
       "      <td>0.0</td>\n",
       "      <td>0.000</td>\n",
       "      <td>0.000</td>\n",
       "      <td>0.0</td>\n",
       "      <td>0.00</td>\n",
       "    </tr>\n",
       "  </tbody>\n",
       "</table>\n",
       "<p>5 rows × 84 columns</p>\n",
       "</div>"
      ],
      "text/plain": [
       "      SEQN        WTDRD1        WTDR2D  DR1ILINE  DR1DRSTZ  DR1EXMER  DRABF  \\\n",
       "0  73557.0  16888.327864  12930.890649       1.0       1.0      49.0    2.0   \n",
       "1  73557.0  16888.327864  12930.890649       2.0       1.0      49.0    2.0   \n",
       "2  73557.0  16888.327864  12930.890649       3.0       1.0      49.0    2.0   \n",
       "3  73557.0  16888.327864  12930.890649       4.0       1.0      49.0    2.0   \n",
       "4  73557.0  16888.327864  12930.890649       5.0       1.0      49.0    2.0   \n",
       "\n",
       "   DRDINT  DR1DBIH  DR1DAY    ...     DR1IM181  DR1IM201  DR1IM221  DR1IP182  \\\n",
       "0     2.0      6.0     2.0    ...        3.595     0.034     0.001     0.949   \n",
       "1     2.0      6.0     2.0    ...        0.000     0.000     0.000     0.004   \n",
       "2     2.0      6.0     2.0    ...        0.000     0.000     0.000     0.000   \n",
       "3     2.0      6.0     2.0    ...        0.081     0.000     0.000     0.103   \n",
       "4     2.0      6.0     2.0    ...        0.026     0.000     0.000     0.024   \n",
       "\n",
       "   DR1IP183  DR1IP184  DR1IP204  DR1IP205  DR1IP225  DR1IP226  \n",
       "0     0.108       0.0     0.051     0.001       0.0      0.01  \n",
       "1     0.000       0.0     0.000     0.000       0.0      0.00  \n",
       "2     0.000       0.0     0.000     0.000       0.0      0.00  \n",
       "3     0.031       0.0     0.000     0.000       0.0      0.00  \n",
       "4     0.009       0.0     0.000     0.000       0.0      0.00  \n",
       "\n",
       "[5 rows x 84 columns]"
      ]
     },
     "execution_count": 3,
     "metadata": {},
     "output_type": "execute_result"
    }
   ],
   "source": [
    "df.head()"
   ]
  },
  {
   "cell_type": "code",
   "execution_count": 4,
   "metadata": {
    "collapsed": false
   },
   "outputs": [
    {
     "data": {
      "text/plain": [
       "Index(['SEQN', 'WTDRD1', 'WTDR2D', 'DR1ILINE', 'DR1DRSTZ', 'DR1EXMER', 'DRABF',\n",
       "       'DRDINT', 'DR1DBIH', 'DR1DAY', 'DR1LANG', 'DR1CCMNM', 'DR1CCMTX',\n",
       "       'DR1_020', 'DR1_030Z', 'DR1FS', 'DR1_040Z', 'DR1IFDCD', 'DR1IGRMS',\n",
       "       'DR1IKCAL', 'DR1IPROT', 'DR1ICARB', 'DR1ISUGR', 'DR1IFIBE', 'DR1ITFAT',\n",
       "       'DR1ISFAT', 'DR1IMFAT', 'DR1IPFAT', 'DR1ICHOL', 'DR1IATOC', 'DR1IATOA',\n",
       "       'DR1IRET', 'DR1IVARA', 'DR1IACAR', 'DR1IBCAR', 'DR1ICRYP', 'DR1ILYCO',\n",
       "       'DR1ILZ', 'DR1IVB1', 'DR1IVB2', 'DR1INIAC', 'DR1IVB6', 'DR1IFOLA',\n",
       "       'DR1IFA', 'DR1IFF', 'DR1IFDFE', 'DR1ICHL', 'DR1IVB12', 'DR1IB12A',\n",
       "       'DR1IVC', 'DR1IVD', 'DR1IVK', 'DR1ICALC', 'DR1IPHOS', 'DR1IMAGN',\n",
       "       'DR1IIRON', 'DR1IZINC', 'DR1ICOPP', 'DR1ISODI', 'DR1IPOTA', 'DR1ISELE',\n",
       "       'DR1ICAFF', 'DR1ITHEO', 'DR1IALCO', 'DR1IMOIS', 'DR1IS040', 'DR1IS060',\n",
       "       'DR1IS080', 'DR1IS100', 'DR1IS120', 'DR1IS140', 'DR1IS160', 'DR1IS180',\n",
       "       'DR1IM161', 'DR1IM181', 'DR1IM201', 'DR1IM221', 'DR1IP182', 'DR1IP183',\n",
       "       'DR1IP184', 'DR1IP204', 'DR1IP205', 'DR1IP225', 'DR1IP226'],\n",
       "      dtype='object')"
      ]
     },
     "execution_count": 4,
     "metadata": {},
     "output_type": "execute_result"
    }
   ],
   "source": [
    "df.columns"
   ]
  },
  {
   "cell_type": "code",
   "execution_count": 8,
   "metadata": {
    "collapsed": false
   },
   "outputs": [
    {
     "data": {
      "text/html": [
       "<div>\n",
       "<table border=\"1\" class=\"dataframe\">\n",
       "  <thead>\n",
       "    <tr style=\"text-align: right;\">\n",
       "      <th></th>\n",
       "      <th>Day1 Name</th>\n",
       "      <th>Day2 Name</th>\n",
       "      <th>Variable Label</th>\n",
       "    </tr>\n",
       "  </thead>\n",
       "  <tbody>\n",
       "    <tr>\n",
       "      <th>0</th>\n",
       "      <td>SEQN</td>\n",
       "      <td>SEQN</td>\n",
       "      <td>Respondent sequence number</td>\n",
       "    </tr>\n",
       "    <tr>\n",
       "      <th>1</th>\n",
       "      <td>WTDRD1</td>\n",
       "      <td>WTDRD1</td>\n",
       "      <td>Dietary day one sample weight</td>\n",
       "    </tr>\n",
       "    <tr>\n",
       "      <th>2</th>\n",
       "      <td>WTDR2D</td>\n",
       "      <td>WTDR2D</td>\n",
       "      <td>Dietary two-day sample weight</td>\n",
       "    </tr>\n",
       "    <tr>\n",
       "      <th>3</th>\n",
       "      <td>DR1ILINE</td>\n",
       "      <td>DR2ILINE</td>\n",
       "      <td>Food/Individual component number</td>\n",
       "    </tr>\n",
       "    <tr>\n",
       "      <th>4</th>\n",
       "      <td>DR1DRSTZ</td>\n",
       "      <td>DR2DRSTZ</td>\n",
       "      <td>Dietary recall status</td>\n",
       "    </tr>\n",
       "  </tbody>\n",
       "</table>\n",
       "</div>"
      ],
      "text/plain": [
       "  Day1 Name Day2 Name                    Variable Label\n",
       "0      SEQN      SEQN        Respondent sequence number\n",
       "1    WTDRD1    WTDRD1     Dietary day one sample weight\n",
       "2    WTDR2D    WTDR2D     Dietary two-day sample weight\n",
       "3  DR1ILINE  DR2ILINE  Food/Individual component number\n",
       "4  DR1DRSTZ  DR2DRSTZ             Dietary recall status"
      ]
     },
     "execution_count": 8,
     "metadata": {},
     "output_type": "execute_result"
    }
   ],
   "source": [
    "col_names_df = pd.read_csv('USDA_DR1IFF_Appendix2_Column_definitions.csv')\n",
    "col_names_df.head()"
   ]
  },
  {
   "cell_type": "code",
   "execution_count": 9,
   "metadata": {
    "collapsed": true
   },
   "outputs": [
    {
     "data": {
      "text/plain": [
       "{'DR1CCMNM': 'Combination food number',\n",
       " 'DR1CCMTX': 'Combination food type',\n",
       " 'DR1DAY': 'Intake day of the week',\n",
       " 'DR1DBIH': '# of days b/w intake and HH interview',\n",
       " 'DR1DRSTZ': 'Dietary recall status',\n",
       " 'DR1EXMER': 'Interviewer ID code',\n",
       " 'DR1FS': 'Source of food',\n",
       " 'DR1IACAR': 'Alpha-carotene (mcg)',\n",
       " 'DR1IALCO': 'Alcohol (gm)',\n",
       " 'DR1IATOA': 'Added alpha-tocopherol (Vitamin E) (mg)',\n",
       " 'DR1IATOC': 'Vitamin E as alpha-tocopherol (mg)',\n",
       " 'DR1IB12A': 'Added vitamin B12 (mcg)',\n",
       " 'DR1IBCAR': 'Beta-carotene (mcg)',\n",
       " 'DR1ICAFF': 'Caffeine (mg)',\n",
       " 'DR1ICALC': 'Calcium (mg)',\n",
       " 'DR1ICARB': 'Carbohydrate (gm)',\n",
       " 'DR1ICHL': 'Total choline (mg)',\n",
       " 'DR1ICHOL': 'Cholesterol (mg)',\n",
       " 'DR1ICOPP': 'Copper (mg)',\n",
       " 'DR1ICRYP': 'Beta-cryptoxanthin (mcg)',\n",
       " 'DR1IFA': 'Folic acid (mcg)',\n",
       " 'DR1IFDCD': 'USDA food code',\n",
       " 'DR1IFDFE': 'Folate, DFE (mcg)',\n",
       " 'DR1IFF': 'Food folate (mcg)',\n",
       " 'DR1IFIBE': 'Dietary fiber (gm)',\n",
       " 'DR1IFOLA': 'Total folate (mcg)',\n",
       " 'DR1IGRMS': 'Grams',\n",
       " 'DR1IIRON': 'Iron (mg)',\n",
       " 'DR1IKCAL': 'Energy (kcal)',\n",
       " 'DR1ILINE': 'Food/Individual component number',\n",
       " 'DR1ILYCO': 'Lycopene (mcg)',\n",
       " 'DR1ILZ': 'Lutein + zeaxanthin (mcg)',\n",
       " 'DR1IM161': 'MFA 16:1 (Hexadecenoic) (gm)',\n",
       " 'DR1IM181': 'MFA 18:1 (Octadecenoic) (gm)',\n",
       " 'DR1IM201': 'MFA 20:1 (Eicosenoic) (gm)',\n",
       " 'DR1IM221': 'MFA 22:1 (Docosenoic) (gm)',\n",
       " 'DR1IMAGN': 'Magnesium (mg)',\n",
       " 'DR1IMFAT': 'Total monounsaturated fatty acids (gm)',\n",
       " 'DR1IMOIS': 'Moisture (gm)',\n",
       " 'DR1INIAC': 'Niacin (mg)',\n",
       " 'DR1IP182': 'PFA 18:2 (Octadecadienoic) (gm)',\n",
       " 'DR1IP183': 'PFA 18:3 (Octadecatrienoic) (gm)',\n",
       " 'DR1IP184': 'PFA 18:4 (Octadecatetraenoic) (gm)',\n",
       " 'DR1IP204': 'PFA 20:4 (Eicosatetraenoic) (gm)',\n",
       " 'DR1IP205': 'PFA 20:5 (Eicosapentaenoic) (gm)',\n",
       " 'DR1IP225': 'PFA 22:5 (Docosapentaenoic) (gm)',\n",
       " 'DR1IP226': 'PFA 22:6 (Docosahexaenoic) (gm)',\n",
       " 'DR1IPFAT': 'Total polyunsaturated fatty acids (gm)',\n",
       " 'DR1IPHOS': 'Phosphorus (mg)',\n",
       " 'DR1IPOTA': 'Potassium (mg)',\n",
       " 'DR1IPROT': 'Protein (gm)',\n",
       " 'DR1IRET': 'Retinol (mcg)',\n",
       " 'DR1IS040': 'SFA 4:0 (Butanoic) (gm)',\n",
       " 'DR1IS060': 'SFA 6:0 (Hexanoic) (gm)',\n",
       " 'DR1IS080': 'SFA 8:0 (Octanoic) (gm)',\n",
       " 'DR1IS100': 'SFA 10:0 (Decanoic) (gm)',\n",
       " 'DR1IS120': 'SFA 12:0 (Dodecanoic) (gm)',\n",
       " 'DR1IS140': 'SFA 14:0 (Tetradecanoic) (gm)',\n",
       " 'DR1IS160': 'SFA 16:0 (Hexadecanoic) (gm)',\n",
       " 'DR1IS180': 'SFA 18:0 (Octadecanoic) (gm)',\n",
       " 'DR1ISELE': 'Selenium (mcg)',\n",
       " 'DR1ISFAT': 'Total saturated fatty acids (gm)',\n",
       " 'DR1ISODI': 'Sodium (mg)',\n",
       " 'DR1ISUGR': 'Total sugars (gm)',\n",
       " 'DR1ITFAT': 'Total fat (gm)',\n",
       " 'DR1ITHEO': 'Theobromine (mg)',\n",
       " 'DR1IVARA': 'Vitamin A, RAE (mcg)',\n",
       " 'DR1IVB1': 'Thiamin (Vitamin B1) (mg)',\n",
       " 'DR1IVB12': 'Vitamin B12 (mcg)',\n",
       " 'DR1IVB2': 'Riboflavin (Vitamin B2) (mg)',\n",
       " 'DR1IVB6': 'Vitamin B6 (mg)',\n",
       " 'DR1IVC': 'Vitamin C (mg)',\n",
       " 'DR1IVD': 'Vitamin D (D2 + D3) (mcg)',\n",
       " 'DR1IVK': 'Vitamin K (mcg)',\n",
       " 'DR1IZINC': 'Zinc (mg)',\n",
       " 'DR1LANG': 'Language respondent used mostly',\n",
       " 'DR1_020': 'Time of eating occasion (HH:MM)',\n",
       " 'DR1_030Z': 'Name of eating occasion',\n",
       " 'DR1_040Z': 'Did you eat this meal at home?',\n",
       " 'DRABF': 'Breast-fed infant (either day)',\n",
       " 'DRDINT': 'Number of days of intake',\n",
       " 'SEQN': 'Respondent sequence number',\n",
       " 'WTDR2D': 'Dietary two-day sample weight',\n",
       " 'WTDRD1': 'Dietary day one sample weight'}"
      ]
     },
     "execution_count": 9,
     "metadata": {},
     "output_type": "execute_result"
    }
   ],
   "source": [
    "cols = dict(zip(col_names_df['Day1 Name'], col_names_df['Variable Label']))\n",
    "cols"
   ]
  },
  {
   "cell_type": "code",
   "execution_count": 12,
   "metadata": {
    "collapsed": false
   },
   "outputs": [],
   "source": [
    "df = df.rename(columns=cols)"
   ]
  },
  {
   "cell_type": "code",
   "execution_count": 13,
   "metadata": {
    "collapsed": false
   },
   "outputs": [
    {
     "data": {
      "text/html": [
       "<div>\n",
       "<table border=\"1\" class=\"dataframe\">\n",
       "  <thead>\n",
       "    <tr style=\"text-align: right;\">\n",
       "      <th></th>\n",
       "      <th>Respondent sequence number</th>\n",
       "      <th>Dietary day one sample weight</th>\n",
       "      <th>Dietary two-day sample weight</th>\n",
       "      <th>Food/Individual component number</th>\n",
       "      <th>Dietary recall status</th>\n",
       "      <th>Interviewer ID code</th>\n",
       "      <th>Breast-fed infant (either day)</th>\n",
       "      <th>Number of days of intake</th>\n",
       "      <th># of days b/w intake and HH interview</th>\n",
       "      <th>Intake day of the week</th>\n",
       "      <th>...</th>\n",
       "      <th>MFA 18:1 (Octadecenoic) (gm)</th>\n",
       "      <th>MFA 20:1 (Eicosenoic) (gm)</th>\n",
       "      <th>MFA 22:1 (Docosenoic) (gm)</th>\n",
       "      <th>PFA 18:2 (Octadecadienoic) (gm)</th>\n",
       "      <th>PFA 18:3 (Octadecatrienoic) (gm)</th>\n",
       "      <th>PFA 18:4 (Octadecatetraenoic) (gm)</th>\n",
       "      <th>PFA 20:4 (Eicosatetraenoic) (gm)</th>\n",
       "      <th>PFA 20:5 (Eicosapentaenoic) (gm)</th>\n",
       "      <th>PFA 22:5 (Docosapentaenoic) (gm)</th>\n",
       "      <th>PFA 22:6 (Docosahexaenoic) (gm)</th>\n",
       "    </tr>\n",
       "  </thead>\n",
       "  <tbody>\n",
       "    <tr>\n",
       "      <th>0</th>\n",
       "      <td>73557.0</td>\n",
       "      <td>16888.327864</td>\n",
       "      <td>12930.890649</td>\n",
       "      <td>1.0</td>\n",
       "      <td>1.0</td>\n",
       "      <td>49.0</td>\n",
       "      <td>2.0</td>\n",
       "      <td>2.0</td>\n",
       "      <td>6.0</td>\n",
       "      <td>2.0</td>\n",
       "      <td>...</td>\n",
       "      <td>3.595</td>\n",
       "      <td>0.034</td>\n",
       "      <td>0.001</td>\n",
       "      <td>0.949</td>\n",
       "      <td>0.108</td>\n",
       "      <td>0.0</td>\n",
       "      <td>0.051</td>\n",
       "      <td>0.001</td>\n",
       "      <td>0.0</td>\n",
       "      <td>0.01</td>\n",
       "    </tr>\n",
       "    <tr>\n",
       "      <th>1</th>\n",
       "      <td>73557.0</td>\n",
       "      <td>16888.327864</td>\n",
       "      <td>12930.890649</td>\n",
       "      <td>2.0</td>\n",
       "      <td>1.0</td>\n",
       "      <td>49.0</td>\n",
       "      <td>2.0</td>\n",
       "      <td>2.0</td>\n",
       "      <td>6.0</td>\n",
       "      <td>2.0</td>\n",
       "      <td>...</td>\n",
       "      <td>0.000</td>\n",
       "      <td>0.000</td>\n",
       "      <td>0.000</td>\n",
       "      <td>0.004</td>\n",
       "      <td>0.000</td>\n",
       "      <td>0.0</td>\n",
       "      <td>0.000</td>\n",
       "      <td>0.000</td>\n",
       "      <td>0.0</td>\n",
       "      <td>0.00</td>\n",
       "    </tr>\n",
       "    <tr>\n",
       "      <th>2</th>\n",
       "      <td>73557.0</td>\n",
       "      <td>16888.327864</td>\n",
       "      <td>12930.890649</td>\n",
       "      <td>3.0</td>\n",
       "      <td>1.0</td>\n",
       "      <td>49.0</td>\n",
       "      <td>2.0</td>\n",
       "      <td>2.0</td>\n",
       "      <td>6.0</td>\n",
       "      <td>2.0</td>\n",
       "      <td>...</td>\n",
       "      <td>0.000</td>\n",
       "      <td>0.000</td>\n",
       "      <td>0.000</td>\n",
       "      <td>0.000</td>\n",
       "      <td>0.000</td>\n",
       "      <td>0.0</td>\n",
       "      <td>0.000</td>\n",
       "      <td>0.000</td>\n",
       "      <td>0.0</td>\n",
       "      <td>0.00</td>\n",
       "    </tr>\n",
       "    <tr>\n",
       "      <th>3</th>\n",
       "      <td>73557.0</td>\n",
       "      <td>16888.327864</td>\n",
       "      <td>12930.890649</td>\n",
       "      <td>4.0</td>\n",
       "      <td>1.0</td>\n",
       "      <td>49.0</td>\n",
       "      <td>2.0</td>\n",
       "      <td>2.0</td>\n",
       "      <td>6.0</td>\n",
       "      <td>2.0</td>\n",
       "      <td>...</td>\n",
       "      <td>0.081</td>\n",
       "      <td>0.000</td>\n",
       "      <td>0.000</td>\n",
       "      <td>0.103</td>\n",
       "      <td>0.031</td>\n",
       "      <td>0.0</td>\n",
       "      <td>0.000</td>\n",
       "      <td>0.000</td>\n",
       "      <td>0.0</td>\n",
       "      <td>0.00</td>\n",
       "    </tr>\n",
       "    <tr>\n",
       "      <th>4</th>\n",
       "      <td>73557.0</td>\n",
       "      <td>16888.327864</td>\n",
       "      <td>12930.890649</td>\n",
       "      <td>5.0</td>\n",
       "      <td>1.0</td>\n",
       "      <td>49.0</td>\n",
       "      <td>2.0</td>\n",
       "      <td>2.0</td>\n",
       "      <td>6.0</td>\n",
       "      <td>2.0</td>\n",
       "      <td>...</td>\n",
       "      <td>0.026</td>\n",
       "      <td>0.000</td>\n",
       "      <td>0.000</td>\n",
       "      <td>0.024</td>\n",
       "      <td>0.009</td>\n",
       "      <td>0.0</td>\n",
       "      <td>0.000</td>\n",
       "      <td>0.000</td>\n",
       "      <td>0.0</td>\n",
       "      <td>0.00</td>\n",
       "    </tr>\n",
       "  </tbody>\n",
       "</table>\n",
       "<p>5 rows × 84 columns</p>\n",
       "</div>"
      ],
      "text/plain": [
       "   Respondent sequence number  Dietary day one sample weight  \\\n",
       "0                     73557.0                   16888.327864   \n",
       "1                     73557.0                   16888.327864   \n",
       "2                     73557.0                   16888.327864   \n",
       "3                     73557.0                   16888.327864   \n",
       "4                     73557.0                   16888.327864   \n",
       "\n",
       "   Dietary two-day sample weight  Food/Individual component number  \\\n",
       "0                   12930.890649                               1.0   \n",
       "1                   12930.890649                               2.0   \n",
       "2                   12930.890649                               3.0   \n",
       "3                   12930.890649                               4.0   \n",
       "4                   12930.890649                               5.0   \n",
       "\n",
       "   Dietary recall status  Interviewer ID code  Breast-fed infant (either day)  \\\n",
       "0                    1.0                 49.0                             2.0   \n",
       "1                    1.0                 49.0                             2.0   \n",
       "2                    1.0                 49.0                             2.0   \n",
       "3                    1.0                 49.0                             2.0   \n",
       "4                    1.0                 49.0                             2.0   \n",
       "\n",
       "   Number of days of intake  # of days b/w intake and HH interview  \\\n",
       "0                       2.0                                    6.0   \n",
       "1                       2.0                                    6.0   \n",
       "2                       2.0                                    6.0   \n",
       "3                       2.0                                    6.0   \n",
       "4                       2.0                                    6.0   \n",
       "\n",
       "   Intake day of the week               ...                 \\\n",
       "0                     2.0               ...                  \n",
       "1                     2.0               ...                  \n",
       "2                     2.0               ...                  \n",
       "3                     2.0               ...                  \n",
       "4                     2.0               ...                  \n",
       "\n",
       "   MFA 18:1 (Octadecenoic) (gm)  MFA 20:1 (Eicosenoic) (gm)  \\\n",
       "0                         3.595                       0.034   \n",
       "1                         0.000                       0.000   \n",
       "2                         0.000                       0.000   \n",
       "3                         0.081                       0.000   \n",
       "4                         0.026                       0.000   \n",
       "\n",
       "   MFA 22:1 (Docosenoic) (gm)  PFA 18:2 (Octadecadienoic) (gm)  \\\n",
       "0                       0.001                            0.949   \n",
       "1                       0.000                            0.004   \n",
       "2                       0.000                            0.000   \n",
       "3                       0.000                            0.103   \n",
       "4                       0.000                            0.024   \n",
       "\n",
       "   PFA 18:3 (Octadecatrienoic) (gm)  PFA 18:4 (Octadecatetraenoic) (gm)  \\\n",
       "0                             0.108                                 0.0   \n",
       "1                             0.000                                 0.0   \n",
       "2                             0.000                                 0.0   \n",
       "3                             0.031                                 0.0   \n",
       "4                             0.009                                 0.0   \n",
       "\n",
       "   PFA 20:4 (Eicosatetraenoic) (gm)  PFA 20:5 (Eicosapentaenoic) (gm)  \\\n",
       "0                             0.051                             0.001   \n",
       "1                             0.000                             0.000   \n",
       "2                             0.000                             0.000   \n",
       "3                             0.000                             0.000   \n",
       "4                             0.000                             0.000   \n",
       "\n",
       "   PFA 22:5 (Docosapentaenoic) (gm)  PFA 22:6 (Docosahexaenoic) (gm)  \n",
       "0                               0.0                             0.01  \n",
       "1                               0.0                             0.00  \n",
       "2                               0.0                             0.00  \n",
       "3                               0.0                             0.00  \n",
       "4                               0.0                             0.00  \n",
       "\n",
       "[5 rows x 84 columns]"
      ]
     },
     "execution_count": 13,
     "metadata": {},
     "output_type": "execute_result"
    }
   ],
   "source": [
    "df.head()"
   ]
  },
  {
   "cell_type": "code",
   "execution_count": 15,
   "metadata": {
    "collapsed": false
   },
   "outputs": [
    {
     "data": {
      "text/plain": [
       "['USDA food code']"
      ]
     },
     "execution_count": 15,
     "metadata": {},
     "output_type": "execute_result"
    }
   ],
   "source": [
    "[col for col in df.columns if 'food code' in col.lower()]"
   ]
  },
  {
   "cell_type": "code",
   "execution_count": 16,
   "metadata": {
    "collapsed": true
   },
   "outputs": [
    {
     "data": {
      "text/plain": [
       "0         32202075.0\n",
       "1         92101000.0\n",
       "2         91107000.0\n",
       "3         61210250.0\n",
       "4         61119010.0\n",
       "5         91715100.0\n",
       "6         63141140.0\n",
       "7         71201050.0\n",
       "8         27510690.0\n",
       "9         92410310.0\n",
       "10        94000100.0\n",
       "11        92101000.0\n",
       "12        11111000.0\n",
       "13        26319143.0\n",
       "14        93102000.0\n",
       "15        27250130.0\n",
       "16        27250110.0\n",
       "17        11111000.0\n",
       "18        94000100.0\n",
       "19        57123000.0\n",
       "20        91107000.0\n",
       "21        11113000.0\n",
       "22        51101060.0\n",
       "23        81103080.0\n",
       "24        64100200.0\n",
       "25        51186010.0\n",
       "26        81103080.0\n",
       "27        42202000.0\n",
       "28        91405000.0\n",
       "29        64100200.0\n",
       "             ...    \n",
       "131364    92309500.0\n",
       "131365    54401050.0\n",
       "131366    94100100.0\n",
       "131367    56203211.0\n",
       "131368    63101000.0\n",
       "131369    62125100.0\n",
       "131370    42116055.0\n",
       "131371    91102010.0\n",
       "131372    11113000.0\n",
       "131373    91301080.0\n",
       "131374    94000100.0\n",
       "131375    58106225.0\n",
       "131376    63101000.0\n",
       "131377    53204010.0\n",
       "131378    11511000.0\n",
       "131379    51108100.0\n",
       "131380    41304991.0\n",
       "131381    75440310.0\n",
       "131382    63107010.0\n",
       "131383    11111000.0\n",
       "131384    11113000.0\n",
       "131385    11830160.0\n",
       "131386    91734100.0\n",
       "131387    92552030.0\n",
       "131388    56205008.0\n",
       "131389    71403000.0\n",
       "131390    75205041.0\n",
       "131391    41304991.0\n",
       "131392    11411100.0\n",
       "131393    94000100.0\n",
       "Name: USDA food code, dtype: float64"
      ]
     },
     "execution_count": 16,
     "metadata": {},
     "output_type": "execute_result"
    }
   ],
   "source": [
    "df['USDA food code']"
   ]
  },
  {
   "cell_type": "code",
   "execution_count": 18,
   "metadata": {
    "collapsed": false
   },
   "outputs": [
    {
     "data": {
      "text/plain": [
       "8661"
      ]
     },
     "execution_count": 18,
     "metadata": {},
     "output_type": "execute_result"
    }
   ],
   "source": [
    "len(df['Respondent sequence number'].unique())"
   ]
  },
  {
   "cell_type": "code",
   "execution_count": 19,
   "metadata": {
    "collapsed": false
   },
   "outputs": [
    {
     "data": {
      "text/plain": [
       "(131394, 84)"
      ]
     },
     "execution_count": 19,
     "metadata": {},
     "output_type": "execute_result"
    }
   ],
   "source": [
    "df.shape"
   ]
  },
  {
   "cell_type": "code",
   "execution_count": 21,
   "metadata": {
    "collapsed": false
   },
   "outputs": [
    {
     "data": {
      "text/plain": [
       "['Respondent sequence number',\n",
       " 'Dietary day one sample weight',\n",
       " 'Dietary two-day sample weight',\n",
       " 'Food/Individual component number',\n",
       " 'Dietary recall status',\n",
       " 'Interviewer ID code',\n",
       " 'Breast-fed infant (either day)',\n",
       " 'Number of days of intake',\n",
       " '# of days b/w intake and HH interview',\n",
       " 'Intake day of the week',\n",
       " 'Language respondent used mostly',\n",
       " 'Combination food number',\n",
       " 'Combination food type',\n",
       " 'Time of eating occasion (HH:MM)',\n",
       " 'Name of eating occasion',\n",
       " 'Source of food',\n",
       " 'Did you eat this meal at home?',\n",
       " 'USDA food code',\n",
       " 'Grams',\n",
       " 'Energy (kcal)',\n",
       " 'Protein (gm)',\n",
       " 'Carbohydrate (gm)',\n",
       " 'Total sugars (gm)',\n",
       " 'Dietary fiber (gm)',\n",
       " 'Total fat (gm)',\n",
       " 'Total saturated fatty acids (gm)',\n",
       " 'Total monounsaturated fatty acids (gm)',\n",
       " 'Total polyunsaturated fatty acids (gm)',\n",
       " 'Cholesterol (mg)',\n",
       " 'Vitamin E as alpha-tocopherol (mg)',\n",
       " 'Added alpha-tocopherol (Vitamin E) (mg)',\n",
       " 'Retinol (mcg)',\n",
       " 'Vitamin A, RAE (mcg)',\n",
       " 'Alpha-carotene (mcg)',\n",
       " 'Beta-carotene (mcg)',\n",
       " 'Beta-cryptoxanthin (mcg)',\n",
       " 'Lycopene (mcg)',\n",
       " 'Lutein + zeaxanthin (mcg)',\n",
       " 'Thiamin (Vitamin B1) (mg)',\n",
       " 'Riboflavin (Vitamin B2) (mg)',\n",
       " 'Niacin (mg)',\n",
       " 'Vitamin B6 (mg)',\n",
       " 'Total folate (mcg)',\n",
       " 'Folic acid (mcg)',\n",
       " 'Food folate (mcg)',\n",
       " 'Folate, DFE (mcg)',\n",
       " 'Total choline (mg)',\n",
       " 'Vitamin B12 (mcg)',\n",
       " 'Added vitamin B12 (mcg)',\n",
       " 'Vitamin C (mg)',\n",
       " 'Vitamin D (D2 + D3) (mcg)',\n",
       " 'Vitamin K (mcg)',\n",
       " 'Calcium (mg)',\n",
       " 'Phosphorus (mg)',\n",
       " 'Magnesium (mg)',\n",
       " 'Iron (mg)',\n",
       " 'Zinc (mg)',\n",
       " 'Copper (mg)',\n",
       " 'Sodium (mg)',\n",
       " 'Potassium (mg)',\n",
       " 'Selenium (mcg)',\n",
       " 'Caffeine (mg)',\n",
       " 'Theobromine (mg)',\n",
       " 'Alcohol (gm)',\n",
       " 'Moisture (gm)',\n",
       " 'SFA 4:0 (Butanoic) (gm)',\n",
       " 'SFA 6:0 (Hexanoic) (gm)',\n",
       " 'SFA 8:0 (Octanoic) (gm)',\n",
       " 'SFA 10:0 (Decanoic) (gm)',\n",
       " 'SFA 12:0 (Dodecanoic) (gm)',\n",
       " 'SFA 14:0 (Tetradecanoic) (gm)',\n",
       " 'SFA 16:0 (Hexadecanoic) (gm)',\n",
       " 'SFA 18:0 (Octadecanoic) (gm)',\n",
       " 'MFA 16:1 (Hexadecenoic) (gm)',\n",
       " 'MFA 18:1 (Octadecenoic) (gm)',\n",
       " 'MFA 20:1 (Eicosenoic) (gm)',\n",
       " 'MFA 22:1 (Docosenoic) (gm)',\n",
       " 'PFA 18:2 (Octadecadienoic) (gm)',\n",
       " 'PFA 18:3 (Octadecatrienoic) (gm)',\n",
       " 'PFA 18:4 (Octadecatetraenoic) (gm)',\n",
       " 'PFA 20:4 (Eicosatetraenoic) (gm)',\n",
       " 'PFA 20:5 (Eicosapentaenoic) (gm)',\n",
       " 'PFA 22:5 (Docosapentaenoic) (gm)',\n",
       " 'PFA 22:6 (Docosahexaenoic) (gm)']"
      ]
     },
     "execution_count": 21,
     "metadata": {},
     "output_type": "execute_result"
    }
   ],
   "source": [
    "list(df.columns)"
   ]
  },
  {
   "cell_type": "code",
   "execution_count": null,
   "metadata": {
    "collapsed": true
   },
   "outputs": [],
   "source": [
    "# https://wwwn.cdc.gov/Nchs/Nhanes/2013-2014/DRXFCD_H.XPT"
   ]
  },
  {
   "cell_type": "code",
   "execution_count": 22,
   "metadata": {
    "collapsed": false
   },
   "outputs": [
    {
     "data": {
      "text/html": [
       "<div>\n",
       "<table border=\"1\" class=\"dataframe\">\n",
       "  <thead>\n",
       "    <tr style=\"text-align: right;\">\n",
       "      <th></th>\n",
       "      <th>DRXFDCD</th>\n",
       "      <th>DRXFCSD</th>\n",
       "      <th>DRXFCLD</th>\n",
       "    </tr>\n",
       "  </thead>\n",
       "  <tbody>\n",
       "    <tr>\n",
       "      <th>0</th>\n",
       "      <td>11000000.0</td>\n",
       "      <td>MILK, HUMAN</td>\n",
       "      <td>Milk, human</td>\n",
       "    </tr>\n",
       "    <tr>\n",
       "      <th>1</th>\n",
       "      <td>11100000.0</td>\n",
       "      <td>MILK, NFS</td>\n",
       "      <td>Milk, NFS</td>\n",
       "    </tr>\n",
       "    <tr>\n",
       "      <th>2</th>\n",
       "      <td>11111000.0</td>\n",
       "      <td>MILK, WHOLE</td>\n",
       "      <td>Milk, whole</td>\n",
       "    </tr>\n",
       "    <tr>\n",
       "      <th>3</th>\n",
       "      <td>11111100.0</td>\n",
       "      <td>MILK, LOW SODIUM, WHOLE</td>\n",
       "      <td>Milk, low sodium, whole</td>\n",
       "    </tr>\n",
       "    <tr>\n",
       "      <th>4</th>\n",
       "      <td>11111150.0</td>\n",
       "      <td>MILK, CALCIUM FORTIFIED, WHOLE</td>\n",
       "      <td>Milk, calcium fortified, whole</td>\n",
       "    </tr>\n",
       "  </tbody>\n",
       "</table>\n",
       "</div>"
      ],
      "text/plain": [
       "      DRXFDCD                         DRXFCSD                         DRXFCLD\n",
       "0  11000000.0                     MILK, HUMAN                     Milk, human\n",
       "1  11100000.0                       MILK, NFS                       Milk, NFS\n",
       "2  11111000.0                     MILK, WHOLE                     Milk, whole\n",
       "3  11111100.0         MILK, LOW SODIUM, WHOLE         Milk, low sodium, whole\n",
       "4  11111150.0  MILK, CALCIUM FORTIFIED, WHOLE  Milk, calcium fortified, whole"
      ]
     },
     "execution_count": 22,
     "metadata": {},
     "output_type": "execute_result"
    }
   ],
   "source": [
    "with open('DRXFCD_H.XPT', 'rb') as f:\n",
    "    df_food_codes = xport.to_dataframe(f)\n",
    "df_food_codes.head()"
   ]
  },
  {
   "cell_type": "code",
   "execution_count": 26,
   "metadata": {
    "collapsed": false
   },
   "outputs": [],
   "source": [
    "df = pd.merge(df, df_food_codes, left_on='USDA food code', right_on='DRXFDCD')"
   ]
  },
  {
   "cell_type": "code",
   "execution_count": 27,
   "metadata": {
    "collapsed": false
   },
   "outputs": [
    {
     "data": {
      "text/html": [
       "<div>\n",
       "<table border=\"1\" class=\"dataframe\">\n",
       "  <thead>\n",
       "    <tr style=\"text-align: right;\">\n",
       "      <th></th>\n",
       "      <th>Respondent sequence number</th>\n",
       "      <th>Dietary day one sample weight</th>\n",
       "      <th>Dietary two-day sample weight</th>\n",
       "      <th>Food/Individual component number</th>\n",
       "      <th>Dietary recall status</th>\n",
       "      <th>Interviewer ID code</th>\n",
       "      <th>Breast-fed infant (either day)</th>\n",
       "      <th>Number of days of intake</th>\n",
       "      <th># of days b/w intake and HH interview</th>\n",
       "      <th>Intake day of the week</th>\n",
       "      <th>...</th>\n",
       "      <th>PFA 18:2 (Octadecadienoic) (gm)</th>\n",
       "      <th>PFA 18:3 (Octadecatrienoic) (gm)</th>\n",
       "      <th>PFA 18:4 (Octadecatetraenoic) (gm)</th>\n",
       "      <th>PFA 20:4 (Eicosatetraenoic) (gm)</th>\n",
       "      <th>PFA 20:5 (Eicosapentaenoic) (gm)</th>\n",
       "      <th>PFA 22:5 (Docosapentaenoic) (gm)</th>\n",
       "      <th>PFA 22:6 (Docosahexaenoic) (gm)</th>\n",
       "      <th>DRXFDCD</th>\n",
       "      <th>DRXFCSD</th>\n",
       "      <th>DRXFCLD</th>\n",
       "    </tr>\n",
       "  </thead>\n",
       "  <tbody>\n",
       "    <tr>\n",
       "      <th>0</th>\n",
       "      <td>73557.0</td>\n",
       "      <td>16888.327864</td>\n",
       "      <td>12930.890649</td>\n",
       "      <td>1.0</td>\n",
       "      <td>1.0</td>\n",
       "      <td>49.0</td>\n",
       "      <td>2.0</td>\n",
       "      <td>2.0</td>\n",
       "      <td>6.0</td>\n",
       "      <td>2.0</td>\n",
       "      <td>...</td>\n",
       "      <td>0.949</td>\n",
       "      <td>0.108</td>\n",
       "      <td>0.0</td>\n",
       "      <td>0.051</td>\n",
       "      <td>0.001</td>\n",
       "      <td>0.0</td>\n",
       "      <td>0.010</td>\n",
       "      <td>32202075.0</td>\n",
       "      <td>EGG, CHEESE &amp; BACON GRIDDLE CAKE SANDWICH</td>\n",
       "      <td>Egg, cheese, and bacon griddle cake sandwich</td>\n",
       "    </tr>\n",
       "    <tr>\n",
       "      <th>1</th>\n",
       "      <td>73570.0</td>\n",
       "      <td>31176.247118</td>\n",
       "      <td>24410.407890</td>\n",
       "      <td>1.0</td>\n",
       "      <td>1.0</td>\n",
       "      <td>22.0</td>\n",
       "      <td>2.0</td>\n",
       "      <td>2.0</td>\n",
       "      <td>15.0</td>\n",
       "      <td>2.0</td>\n",
       "      <td>...</td>\n",
       "      <td>1.709</td>\n",
       "      <td>0.194</td>\n",
       "      <td>0.0</td>\n",
       "      <td>0.092</td>\n",
       "      <td>0.002</td>\n",
       "      <td>0.0</td>\n",
       "      <td>0.018</td>\n",
       "      <td>32202075.0</td>\n",
       "      <td>EGG, CHEESE &amp; BACON GRIDDLE CAKE SANDWICH</td>\n",
       "      <td>Egg, cheese, and bacon griddle cake sandwich</td>\n",
       "    </tr>\n",
       "    <tr>\n",
       "      <th>2</th>\n",
       "      <td>74981.0</td>\n",
       "      <td>68396.626524</td>\n",
       "      <td>65020.391694</td>\n",
       "      <td>1.0</td>\n",
       "      <td>1.0</td>\n",
       "      <td>25.0</td>\n",
       "      <td>2.0</td>\n",
       "      <td>2.0</td>\n",
       "      <td>1.0</td>\n",
       "      <td>3.0</td>\n",
       "      <td>...</td>\n",
       "      <td>1.898</td>\n",
       "      <td>0.215</td>\n",
       "      <td>0.0</td>\n",
       "      <td>0.102</td>\n",
       "      <td>0.002</td>\n",
       "      <td>0.0</td>\n",
       "      <td>0.020</td>\n",
       "      <td>32202075.0</td>\n",
       "      <td>EGG, CHEESE &amp; BACON GRIDDLE CAKE SANDWICH</td>\n",
       "      <td>Egg, cheese, and bacon griddle cake sandwich</td>\n",
       "    </tr>\n",
       "    <tr>\n",
       "      <th>3</th>\n",
       "      <td>77635.0</td>\n",
       "      <td>28149.417055</td>\n",
       "      <td>22040.457583</td>\n",
       "      <td>1.0</td>\n",
       "      <td>1.0</td>\n",
       "      <td>22.0</td>\n",
       "      <td>2.0</td>\n",
       "      <td>2.0</td>\n",
       "      <td>15.0</td>\n",
       "      <td>2.0</td>\n",
       "      <td>...</td>\n",
       "      <td>1.614</td>\n",
       "      <td>0.183</td>\n",
       "      <td>0.0</td>\n",
       "      <td>0.087</td>\n",
       "      <td>0.001</td>\n",
       "      <td>0.0</td>\n",
       "      <td>0.017</td>\n",
       "      <td>32202075.0</td>\n",
       "      <td>EGG, CHEESE &amp; BACON GRIDDLE CAKE SANDWICH</td>\n",
       "      <td>Egg, cheese, and bacon griddle cake sandwich</td>\n",
       "    </tr>\n",
       "    <tr>\n",
       "      <th>4</th>\n",
       "      <td>80562.0</td>\n",
       "      <td>48873.883474</td>\n",
       "      <td>44149.215494</td>\n",
       "      <td>2.0</td>\n",
       "      <td>1.0</td>\n",
       "      <td>25.0</td>\n",
       "      <td>2.0</td>\n",
       "      <td>2.0</td>\n",
       "      <td>9.0</td>\n",
       "      <td>3.0</td>\n",
       "      <td>...</td>\n",
       "      <td>1.898</td>\n",
       "      <td>0.215</td>\n",
       "      <td>0.0</td>\n",
       "      <td>0.102</td>\n",
       "      <td>0.002</td>\n",
       "      <td>0.0</td>\n",
       "      <td>0.020</td>\n",
       "      <td>32202075.0</td>\n",
       "      <td>EGG, CHEESE &amp; BACON GRIDDLE CAKE SANDWICH</td>\n",
       "      <td>Egg, cheese, and bacon griddle cake sandwich</td>\n",
       "    </tr>\n",
       "  </tbody>\n",
       "</table>\n",
       "<p>5 rows × 87 columns</p>\n",
       "</div>"
      ],
      "text/plain": [
       "   Respondent sequence number  Dietary day one sample weight  \\\n",
       "0                     73557.0                   16888.327864   \n",
       "1                     73570.0                   31176.247118   \n",
       "2                     74981.0                   68396.626524   \n",
       "3                     77635.0                   28149.417055   \n",
       "4                     80562.0                   48873.883474   \n",
       "\n",
       "   Dietary two-day sample weight  Food/Individual component number  \\\n",
       "0                   12930.890649                               1.0   \n",
       "1                   24410.407890                               1.0   \n",
       "2                   65020.391694                               1.0   \n",
       "3                   22040.457583                               1.0   \n",
       "4                   44149.215494                               2.0   \n",
       "\n",
       "   Dietary recall status  Interviewer ID code  Breast-fed infant (either day)  \\\n",
       "0                    1.0                 49.0                             2.0   \n",
       "1                    1.0                 22.0                             2.0   \n",
       "2                    1.0                 25.0                             2.0   \n",
       "3                    1.0                 22.0                             2.0   \n",
       "4                    1.0                 25.0                             2.0   \n",
       "\n",
       "   Number of days of intake  # of days b/w intake and HH interview  \\\n",
       "0                       2.0                                    6.0   \n",
       "1                       2.0                                   15.0   \n",
       "2                       2.0                                    1.0   \n",
       "3                       2.0                                   15.0   \n",
       "4                       2.0                                    9.0   \n",
       "\n",
       "   Intake day of the week                      ...                       \\\n",
       "0                     2.0                      ...                        \n",
       "1                     2.0                      ...                        \n",
       "2                     3.0                      ...                        \n",
       "3                     2.0                      ...                        \n",
       "4                     3.0                      ...                        \n",
       "\n",
       "   PFA 18:2 (Octadecadienoic) (gm)  PFA 18:3 (Octadecatrienoic) (gm)  \\\n",
       "0                            0.949                             0.108   \n",
       "1                            1.709                             0.194   \n",
       "2                            1.898                             0.215   \n",
       "3                            1.614                             0.183   \n",
       "4                            1.898                             0.215   \n",
       "\n",
       "   PFA 18:4 (Octadecatetraenoic) (gm)  PFA 20:4 (Eicosatetraenoic) (gm)  \\\n",
       "0                                 0.0                             0.051   \n",
       "1                                 0.0                             0.092   \n",
       "2                                 0.0                             0.102   \n",
       "3                                 0.0                             0.087   \n",
       "4                                 0.0                             0.102   \n",
       "\n",
       "   PFA 20:5 (Eicosapentaenoic) (gm)  PFA 22:5 (Docosapentaenoic) (gm)  \\\n",
       "0                             0.001                               0.0   \n",
       "1                             0.002                               0.0   \n",
       "2                             0.002                               0.0   \n",
       "3                             0.001                               0.0   \n",
       "4                             0.002                               0.0   \n",
       "\n",
       "   PFA 22:6 (Docosahexaenoic) (gm)     DRXFDCD  \\\n",
       "0                            0.010  32202075.0   \n",
       "1                            0.018  32202075.0   \n",
       "2                            0.020  32202075.0   \n",
       "3                            0.017  32202075.0   \n",
       "4                            0.020  32202075.0   \n",
       "\n",
       "                                     DRXFCSD  \\\n",
       "0  EGG, CHEESE & BACON GRIDDLE CAKE SANDWICH   \n",
       "1  EGG, CHEESE & BACON GRIDDLE CAKE SANDWICH   \n",
       "2  EGG, CHEESE & BACON GRIDDLE CAKE SANDWICH   \n",
       "3  EGG, CHEESE & BACON GRIDDLE CAKE SANDWICH   \n",
       "4  EGG, CHEESE & BACON GRIDDLE CAKE SANDWICH   \n",
       "\n",
       "                                        DRXFCLD  \n",
       "0  Egg, cheese, and bacon griddle cake sandwich  \n",
       "1  Egg, cheese, and bacon griddle cake sandwich  \n",
       "2  Egg, cheese, and bacon griddle cake sandwich  \n",
       "3  Egg, cheese, and bacon griddle cake sandwich  \n",
       "4  Egg, cheese, and bacon griddle cake sandwich  \n",
       "\n",
       "[5 rows x 87 columns]"
      ]
     },
     "execution_count": 27,
     "metadata": {},
     "output_type": "execute_result"
    }
   ],
   "source": [
    "df.head()"
   ]
  },
  {
   "cell_type": "code",
   "execution_count": 33,
   "metadata": {
    "collapsed": false
   },
   "outputs": [
    {
     "data": {
      "text/plain": [
       "<matplotlib.axes._subplots.AxesSubplot at 0x7fcfd4936320>"
      ]
     },
     "execution_count": 33,
     "metadata": {},
     "output_type": "execute_result"
    },
    {
     "data": {
      "image/png": "[encoded data removed]",
      "text/plain": [
       "<matplotlib.figure.Figure at 0x7fcfd491ff60>"
      ]
     },
     "metadata": {},
     "output_type": "display_data"
    }
   ],
   "source": [
    "df.groupby('Respondent sequence number')['Energy (kcal)'].sum().hist(bins=20)"
   ]
  },
  {
   "cell_type": "code",
   "execution_count": 34,
   "metadata": {
    "collapsed": true
   },
   "outputs": [],
   "source": [
    "cal_cols = ['Energy (kcal)',\n",
    " 'Protein (gm)',\n",
    " 'Carbohydrate (gm)',\n",
    " 'Total sugars (gm)',\n",
    " 'Dietary fiber (gm)',\n",
    " 'Total fat (gm)']"
   ]
  },
  {
   "cell_type": "code",
   "execution_count": 35,
   "metadata": {
    "collapsed": false
   },
   "outputs": [
    {
     "data": {
      "text/plain": [
       "(8661, 6)"
      ]
     },
     "execution_count": 35,
     "metadata": {},
     "output_type": "execute_result"
    }
   ],
   "source": [
    "respondant_totals = df.groupby('Respondent sequence number')[cal_cols].sum()\n",
    "respondant_totals.shape"
   ]
  },
  {
   "cell_type": "code",
   "execution_count": 37,
   "metadata": {
    "collapsed": false
   },
   "outputs": [],
   "source": [
    "respondant_totals['pct_protein'] = respondant_totals['Protein (gm)']*4 / respondant_totals['Energy (kcal)']"
   ]
  },
  {
   "cell_type": "code",
   "execution_count": 38,
   "metadata": {
    "collapsed": false
   },
   "outputs": [
    {
     "data": {
      "text/plain": [
       "array([[<matplotlib.axes._subplots.AxesSubplot object at 0x7fcfd45e0a20>]], dtype=object)"
      ]
     },
     "execution_count": 38,
     "metadata": {},
     "output_type": "execute_result"
    },
    {
     "data": {
      "image/png": "[encoded data removed]",
      "text/plain": [
       "<matplotlib.figure.Figure at 0x7fcfd45c64e0>"
      ]
     },
     "metadata": {},
     "output_type": "display_data"
    }
   ],
   "source": [
    "respondant_totals.hist('pct_protein', bins=50)"
   ]
  },
  {
   "cell_type": "code",
   "execution_count": 39,
   "metadata": {
    "collapsed": true
   },
   "outputs": [],
   "source": [
    "respondant_totals['pct_sugar'] = respondant_totals['Total sugars (gm)']*4 / respondant_totals['Energy (kcal)']"
   ]
  },
  {
   "cell_type": "code",
   "execution_count": 40,
   "metadata": {
    "collapsed": false
   },
   "outputs": [
    {
     "data": {
      "text/plain": [
       "array([[<matplotlib.axes._subplots.AxesSubplot object at 0x7fcfc469ecc0>]], dtype=object)"
      ]
     },
     "execution_count": 40,
     "metadata": {},
     "output_type": "execute_result"
    },
    {
     "data": {
      "image/png": "[encoded data removed]",
      "text/plain": [
       "<matplotlib.figure.Figure at 0x7fcfd466d518>"
      ]
     },
     "metadata": {},
     "output_type": "display_data"
    }
   ],
   "source": [
    "respondant_totals.hist('pct_sugar', bins=50)"
   ]
  },
  {
   "cell_type": "code",
   "execution_count": 44,
   "metadata": {
    "collapsed": false
   },
   "outputs": [
    {
     "data": {
      "text/plain": [
       "<matplotlib.axes._subplots.AxesSubplot at 0x7fcfc43bdba8>"
      ]
     },
     "execution_count": 44,
     "metadata": {},
     "output_type": "execute_result"
    },
    {
     "data": {
      "image/png": "[encoded data removed]",
      "text/plain": [
       "<matplotlib.figure.Figure at 0x7fcfd45a1c50>"
      ]
     },
     "metadata": {},
     "output_type": "display_data"
    }
   ],
   "source": [
    "respondant_totals.plot(x='Total sugars (gm)', y='Protein (gm)', marker='o', linewidth=0)"
   ]
  },
  {
   "cell_type": "code",
   "execution_count": 45,
   "metadata": {
    "collapsed": false
   },
   "outputs": [
    {
     "name": "stderr",
     "output_type": "stream",
     "text": [
      "/opt/anaconda3/lib/python3.5/site-packages/numpy/lib/function_base.py:3834: RuntimeWarning: Invalid value encountered in percentile\n",
      "  RuntimeWarning)\n"
     ]
    },
    {
     "data": {
      "text/plain": [
       "count    8626.000000\n",
       "mean        0.065339\n",
       "std         0.035646\n",
       "min         0.000000\n",
       "25%              NaN\n",
       "50%              NaN\n",
       "75%              NaN\n",
       "max         0.457709\n",
       "Name: pct_fiber_of_carbs, dtype: float64"
      ]
     },
     "execution_count": 45,
     "metadata": {},
     "output_type": "execute_result"
    }
   ],
   "source": [
    "respondant_totals['pct_fiber_of_carbs'] = respondant_totals['Dietary fiber (gm)'] / respondant_totals['Carbohydrate (gm)']\n",
    "respondant_totals['pct_fiber_of_carbs'].describe()"
   ]
  },
  {
   "cell_type": "code",
   "execution_count": null,
   "metadata": {
    "collapsed": true
   },
   "outputs": [],
   "source": []
  },
  {
   "cell_type": "code",
   "execution_count": 46,
   "metadata": {
    "collapsed": false
   },
   "outputs": [
    {
     "name": "stderr",
     "output_type": "stream",
     "text": [
      "/opt/anaconda3/lib/python3.5/site-packages/numpy/lib/function_base.py:3834: RuntimeWarning: Invalid value encountered in percentile\n",
      "  RuntimeWarning)\n"
     ]
    },
    {
     "data": {
      "text/plain": [
       "count    8626.000000\n",
       "mean        0.337207\n",
       "std         0.087597\n",
       "min         0.000000\n",
       "25%              NaN\n",
       "50%              NaN\n",
       "75%              NaN\n",
       "max         0.701525\n",
       "Name: pct_fat, dtype: float64"
      ]
     },
     "execution_count": 46,
     "metadata": {},
     "output_type": "execute_result"
    }
   ],
   "source": [
    "respondant_totals['pct_fat'] = respondant_totals['Total fat (gm)']*9 / respondant_totals['Energy (kcal)']\n",
    "respondant_totals['pct_fat'].describe()"
   ]
  },
  {
   "cell_type": "code",
   "execution_count": 48,
   "metadata": {
    "collapsed": false
   },
   "outputs": [
    {
     "data": {
      "text/plain": [
       "array([[<matplotlib.axes._subplots.AxesSubplot object at 0x7fcfc42b4588>]], dtype=object)"
      ]
     },
     "execution_count": 48,
     "metadata": {},
     "output_type": "execute_result"
    },
    {
     "data": {
      "image/png": "[encoded data removed]",
      "text/plain": [
       "<matplotlib.figure.Figure at 0x7fcfc4283828>"
      ]
     },
     "metadata": {},
     "output_type": "display_data"
    }
   ],
   "source": [
    "respondant_totals.hist('pct_fat', bins=50)"
   ]
  },
  {
   "cell_type": "code",
   "execution_count": 47,
   "metadata": {
    "collapsed": false
   },
   "outputs": [
    {
     "name": "stderr",
     "output_type": "stream",
     "text": [
      "/opt/anaconda3/lib/python3.5/site-packages/numpy/lib/function_base.py:3834: RuntimeWarning: Invalid value encountered in percentile\n",
      "  RuntimeWarning)\n"
     ]
    },
    {
     "data": {
      "text/html": [
       "<div>\n",
       "<table border=\"1\" class=\"dataframe\">\n",
       "  <thead>\n",
       "    <tr style=\"text-align: right;\">\n",
       "      <th></th>\n",
       "      <th>Energy (kcal)</th>\n",
       "      <th>Protein (gm)</th>\n",
       "      <th>Carbohydrate (gm)</th>\n",
       "      <th>Total sugars (gm)</th>\n",
       "      <th>Dietary fiber (gm)</th>\n",
       "      <th>Total fat (gm)</th>\n",
       "      <th>pct_protein</th>\n",
       "      <th>pct_sugar</th>\n",
       "      <th>pct_fiber_of_carbs</th>\n",
       "      <th>pct_fat</th>\n",
       "      <th>pct_carbs</th>\n",
       "    </tr>\n",
       "  </thead>\n",
       "  <tbody>\n",
       "    <tr>\n",
       "      <th>count</th>\n",
       "      <td>8626.000000</td>\n",
       "      <td>8626.000000</td>\n",
       "      <td>8626.000000</td>\n",
       "      <td>8626.000000</td>\n",
       "      <td>8626.000000</td>\n",
       "      <td>8626.000000</td>\n",
       "      <td>8626.000000</td>\n",
       "      <td>8626.000000</td>\n",
       "      <td>8626.000000</td>\n",
       "      <td>8626.000000</td>\n",
       "      <td>8626.000000</td>\n",
       "    </tr>\n",
       "    <tr>\n",
       "      <th>mean</th>\n",
       "      <td>1947.322050</td>\n",
       "      <td>73.869899</td>\n",
       "      <td>240.656432</td>\n",
       "      <td>108.415778</td>\n",
       "      <td>15.154104</td>\n",
       "      <td>74.436563</td>\n",
       "      <td>0.152987</td>\n",
       "      <td>0.230995</td>\n",
       "      <td>0.065339</td>\n",
       "      <td>0.337207</td>\n",
       "      <td>0.504392</td>\n",
       "    </tr>\n",
       "    <tr>\n",
       "      <th>std</th>\n",
       "      <td>993.297107</td>\n",
       "      <td>44.957421</td>\n",
       "      <td>124.935605</td>\n",
       "      <td>73.471158</td>\n",
       "      <td>10.155059</td>\n",
       "      <td>45.714742</td>\n",
       "      <td>0.054260</td>\n",
       "      <td>0.105986</td>\n",
       "      <td>0.035646</td>\n",
       "      <td>0.087597</td>\n",
       "      <td>0.109968</td>\n",
       "    </tr>\n",
       "    <tr>\n",
       "      <th>min</th>\n",
       "      <td>6.000000</td>\n",
       "      <td>0.000000</td>\n",
       "      <td>0.660000</td>\n",
       "      <td>0.130000</td>\n",
       "      <td>0.000000</td>\n",
       "      <td>0.000000</td>\n",
       "      <td>0.000000</td>\n",
       "      <td>0.000292</td>\n",
       "      <td>0.000000</td>\n",
       "      <td>0.000000</td>\n",
       "      <td>0.039144</td>\n",
       "    </tr>\n",
       "    <tr>\n",
       "      <th>25%</th>\n",
       "      <td>NaN</td>\n",
       "      <td>NaN</td>\n",
       "      <td>NaN</td>\n",
       "      <td>NaN</td>\n",
       "      <td>NaN</td>\n",
       "      <td>NaN</td>\n",
       "      <td>NaN</td>\n",
       "      <td>NaN</td>\n",
       "      <td>NaN</td>\n",
       "      <td>NaN</td>\n",
       "      <td>NaN</td>\n",
       "    </tr>\n",
       "    <tr>\n",
       "      <th>50%</th>\n",
       "      <td>NaN</td>\n",
       "      <td>NaN</td>\n",
       "      <td>NaN</td>\n",
       "      <td>NaN</td>\n",
       "      <td>NaN</td>\n",
       "      <td>NaN</td>\n",
       "      <td>NaN</td>\n",
       "      <td>NaN</td>\n",
       "      <td>NaN</td>\n",
       "      <td>NaN</td>\n",
       "      <td>NaN</td>\n",
       "    </tr>\n",
       "    <tr>\n",
       "      <th>75%</th>\n",
       "      <td>NaN</td>\n",
       "      <td>NaN</td>\n",
       "      <td>NaN</td>\n",
       "      <td>NaN</td>\n",
       "      <td>NaN</td>\n",
       "      <td>NaN</td>\n",
       "      <td>NaN</td>\n",
       "      <td>NaN</td>\n",
       "      <td>NaN</td>\n",
       "      <td>NaN</td>\n",
       "      <td>NaN</td>\n",
       "    </tr>\n",
       "    <tr>\n",
       "      <th>max</th>\n",
       "      <td>12108.000000</td>\n",
       "      <td>869.490000</td>\n",
       "      <td>1423.870000</td>\n",
       "      <td>1115.500000</td>\n",
       "      <td>136.300000</td>\n",
       "      <td>548.380000</td>\n",
       "      <td>0.548228</td>\n",
       "      <td>1.000411</td>\n",
       "      <td>0.457709</td>\n",
       "      <td>0.701525</td>\n",
       "      <td>1.034462</td>\n",
       "    </tr>\n",
       "  </tbody>\n",
       "</table>\n",
       "</div>"
      ],
      "text/plain": [
       "       Energy (kcal)  Protein (gm)  Carbohydrate (gm)  Total sugars (gm)  \\\n",
       "count    8626.000000   8626.000000        8626.000000        8626.000000   \n",
       "mean     1947.322050     73.869899         240.656432         108.415778   \n",
       "std       993.297107     44.957421         124.935605          73.471158   \n",
       "min         6.000000      0.000000           0.660000           0.130000   \n",
       "25%              NaN           NaN                NaN                NaN   \n",
       "50%              NaN           NaN                NaN                NaN   \n",
       "75%              NaN           NaN                NaN                NaN   \n",
       "max     12108.000000    869.490000        1423.870000        1115.500000   \n",
       "\n",
       "       Dietary fiber (gm)  Total fat (gm)  pct_protein    pct_sugar  \\\n",
       "count         8626.000000     8626.000000  8626.000000  8626.000000   \n",
       "mean            15.154104       74.436563     0.152987     0.230995   \n",
       "std             10.155059       45.714742     0.054260     0.105986   \n",
       "min              0.000000        0.000000     0.000000     0.000292   \n",
       "25%                   NaN             NaN          NaN          NaN   \n",
       "50%                   NaN             NaN          NaN          NaN   \n",
       "75%                   NaN             NaN          NaN          NaN   \n",
       "max            136.300000      548.380000     0.548228     1.000411   \n",
       "\n",
       "       pct_fiber_of_carbs      pct_fat    pct_carbs  \n",
       "count         8626.000000  8626.000000  8626.000000  \n",
       "mean             0.065339     0.337207     0.504392  \n",
       "std              0.035646     0.087597     0.109968  \n",
       "min              0.000000     0.000000     0.039144  \n",
       "25%                   NaN          NaN          NaN  \n",
       "50%                   NaN          NaN          NaN  \n",
       "75%                   NaN          NaN          NaN  \n",
       "max              0.457709     0.701525     1.034462  "
      ]
     },
     "execution_count": 47,
     "metadata": {},
     "output_type": "execute_result"
    }
   ],
   "source": [
    "respondant_totals['pct_carbs'] = respondant_totals['Carbohydrate (gm)']*4 / respondant_totals['Energy (kcal)']\n",
    "respondant_totals.describe()"
   ]
  },
  {
   "cell_type": "code",
   "execution_count": 49,
   "metadata": {
    "collapsed": false
   },
   "outputs": [
    {
     "data": {
      "text/plain": [
       "array([[<matplotlib.axes._subplots.AxesSubplot object at 0x7fcfc41a32e8>]], dtype=object)"
      ]
     },
     "execution_count": 49,
     "metadata": {},
     "output_type": "execute_result"
    },
    {
     "data": {
      "image/png": "[encoded data removed]",
      "text/plain": [
       "<matplotlib.figure.Figure at 0x7fcfc41aab00>"
      ]
     },
     "metadata": {},
     "output_type": "display_data"
    }
   ],
   "source": [
    "respondant_totals.hist('pct_carbs', bins=50)"
   ]
  },
  {
   "cell_type": "code",
   "execution_count": 52,
   "metadata": {
    "collapsed": false
   },
   "outputs": [
    {
     "name": "stderr",
     "output_type": "stream",
     "text": [
      "/opt/anaconda3/lib/python3.5/site-packages/numpy/lib/function_base.py:3834: RuntimeWarning: Invalid value encountered in percentile\n",
      "  RuntimeWarning)\n"
     ]
    },
    {
     "data": {
      "text/html": [
       "<div>\n",
       "<table border=\"1\" class=\"dataframe\">\n",
       "  <thead>\n",
       "    <tr style=\"text-align: right;\">\n",
       "      <th></th>\n",
       "      <th>Energy (kcal)</th>\n",
       "      <th>Protein (gm)</th>\n",
       "      <th>Carbohydrate (gm)</th>\n",
       "      <th>Total sugars (gm)</th>\n",
       "      <th>Dietary fiber (gm)</th>\n",
       "      <th>Total fat (gm)</th>\n",
       "      <th>pct_protein</th>\n",
       "      <th>pct_sugar</th>\n",
       "      <th>pct_fiber_of_carbs</th>\n",
       "      <th>pct_fat</th>\n",
       "      <th>pct_carbs</th>\n",
       "      <th>total_pct</th>\n",
       "    </tr>\n",
       "  </thead>\n",
       "  <tbody>\n",
       "    <tr>\n",
       "      <th>count</th>\n",
       "      <td>8626.000000</td>\n",
       "      <td>8626.000000</td>\n",
       "      <td>8626.000000</td>\n",
       "      <td>8626.000000</td>\n",
       "      <td>8626.000000</td>\n",
       "      <td>8626.000000</td>\n",
       "      <td>8626.000000</td>\n",
       "      <td>8626.000000</td>\n",
       "      <td>8626.000000</td>\n",
       "      <td>8626.000000</td>\n",
       "      <td>8626.000000</td>\n",
       "      <td>8626.000000</td>\n",
       "    </tr>\n",
       "    <tr>\n",
       "      <th>mean</th>\n",
       "      <td>1947.322050</td>\n",
       "      <td>73.869899</td>\n",
       "      <td>240.656432</td>\n",
       "      <td>108.415778</td>\n",
       "      <td>15.154104</td>\n",
       "      <td>74.436563</td>\n",
       "      <td>0.152987</td>\n",
       "      <td>0.230995</td>\n",
       "      <td>0.065339</td>\n",
       "      <td>0.337207</td>\n",
       "      <td>0.504392</td>\n",
       "      <td>0.994586</td>\n",
       "    </tr>\n",
       "    <tr>\n",
       "      <th>std</th>\n",
       "      <td>993.297107</td>\n",
       "      <td>44.957421</td>\n",
       "      <td>124.935605</td>\n",
       "      <td>73.471158</td>\n",
       "      <td>10.155059</td>\n",
       "      <td>45.714742</td>\n",
       "      <td>0.054260</td>\n",
       "      <td>0.105986</td>\n",
       "      <td>0.035646</td>\n",
       "      <td>0.087597</td>\n",
       "      <td>0.109968</td>\n",
       "      <td>0.058274</td>\n",
       "    </tr>\n",
       "    <tr>\n",
       "      <th>min</th>\n",
       "      <td>6.000000</td>\n",
       "      <td>0.000000</td>\n",
       "      <td>0.660000</td>\n",
       "      <td>0.130000</td>\n",
       "      <td>0.000000</td>\n",
       "      <td>0.000000</td>\n",
       "      <td>0.000000</td>\n",
       "      <td>0.000292</td>\n",
       "      <td>0.000000</td>\n",
       "      <td>0.000000</td>\n",
       "      <td>0.039144</td>\n",
       "      <td>0.225682</td>\n",
       "    </tr>\n",
       "    <tr>\n",
       "      <th>25%</th>\n",
       "      <td>NaN</td>\n",
       "      <td>NaN</td>\n",
       "      <td>NaN</td>\n",
       "      <td>NaN</td>\n",
       "      <td>NaN</td>\n",
       "      <td>NaN</td>\n",
       "      <td>NaN</td>\n",
       "      <td>NaN</td>\n",
       "      <td>NaN</td>\n",
       "      <td>NaN</td>\n",
       "      <td>NaN</td>\n",
       "      <td>NaN</td>\n",
       "    </tr>\n",
       "    <tr>\n",
       "      <th>50%</th>\n",
       "      <td>NaN</td>\n",
       "      <td>NaN</td>\n",
       "      <td>NaN</td>\n",
       "      <td>NaN</td>\n",
       "      <td>NaN</td>\n",
       "      <td>NaN</td>\n",
       "      <td>NaN</td>\n",
       "      <td>NaN</td>\n",
       "      <td>NaN</td>\n",
       "      <td>NaN</td>\n",
       "      <td>NaN</td>\n",
       "      <td>NaN</td>\n",
       "    </tr>\n",
       "    <tr>\n",
       "      <th>75%</th>\n",
       "      <td>NaN</td>\n",
       "      <td>NaN</td>\n",
       "      <td>NaN</td>\n",
       "      <td>NaN</td>\n",
       "      <td>NaN</td>\n",
       "      <td>NaN</td>\n",
       "      <td>NaN</td>\n",
       "      <td>NaN</td>\n",
       "      <td>NaN</td>\n",
       "      <td>NaN</td>\n",
       "      <td>NaN</td>\n",
       "      <td>NaN</td>\n",
       "    </tr>\n",
       "    <tr>\n",
       "      <th>max</th>\n",
       "      <td>12108.000000</td>\n",
       "      <td>869.490000</td>\n",
       "      <td>1423.870000</td>\n",
       "      <td>1115.500000</td>\n",
       "      <td>136.300000</td>\n",
       "      <td>548.380000</td>\n",
       "      <td>0.548228</td>\n",
       "      <td>1.000411</td>\n",
       "      <td>0.457709</td>\n",
       "      <td>0.701525</td>\n",
       "      <td>1.034462</td>\n",
       "      <td>1.151026</td>\n",
       "    </tr>\n",
       "  </tbody>\n",
       "</table>\n",
       "</div>"
      ],
      "text/plain": [
       "       Energy (kcal)  Protein (gm)  Carbohydrate (gm)  Total sugars (gm)  \\\n",
       "count    8626.000000   8626.000000        8626.000000        8626.000000   \n",
       "mean     1947.322050     73.869899         240.656432         108.415778   \n",
       "std       993.297107     44.957421         124.935605          73.471158   \n",
       "min         6.000000      0.000000           0.660000           0.130000   \n",
       "25%              NaN           NaN                NaN                NaN   \n",
       "50%              NaN           NaN                NaN                NaN   \n",
       "75%              NaN           NaN                NaN                NaN   \n",
       "max     12108.000000    869.490000        1423.870000        1115.500000   \n",
       "\n",
       "       Dietary fiber (gm)  Total fat (gm)  pct_protein    pct_sugar  \\\n",
       "count         8626.000000     8626.000000  8626.000000  8626.000000   \n",
       "mean            15.154104       74.436563     0.152987     0.230995   \n",
       "std             10.155059       45.714742     0.054260     0.105986   \n",
       "min              0.000000        0.000000     0.000000     0.000292   \n",
       "25%                   NaN             NaN          NaN          NaN   \n",
       "50%                   NaN             NaN          NaN          NaN   \n",
       "75%                   NaN             NaN          NaN          NaN   \n",
       "max            136.300000      548.380000     0.548228     1.000411   \n",
       "\n",
       "       pct_fiber_of_carbs      pct_fat    pct_carbs    total_pct  \n",
       "count         8626.000000  8626.000000  8626.000000  8626.000000  \n",
       "mean             0.065339     0.337207     0.504392     0.994586  \n",
       "std              0.035646     0.087597     0.109968     0.058274  \n",
       "min              0.000000     0.000000     0.039144     0.225682  \n",
       "25%                   NaN          NaN          NaN          NaN  \n",
       "50%                   NaN          NaN          NaN          NaN  \n",
       "75%                   NaN          NaN          NaN          NaN  \n",
       "max              0.457709     0.701525     1.034462     1.151026  "
      ]
     },
     "execution_count": 52,
     "metadata": {},
     "output_type": "execute_result"
    }
   ],
   "source": [
    "respondant_totals['total_pct'] = respondant_totals['pct_fat'] + respondant_totals['pct_carbs'] + respondant_totals['pct_protein']\n",
    "respondant_totals.describe()"
   ]
  },
  {
   "cell_type": "code",
   "execution_count": 57,
   "metadata": {
    "collapsed": false
   },
   "outputs": [
    {
     "data": {
      "text/plain": [
       "(0.8, 1.2)"
      ]
     },
     "execution_count": 57,
     "metadata": {},
     "output_type": "execute_result"
    },
    {
     "data": {
      "image/png": "[encoded data removed]",
      "text/plain": [
       "<matplotlib.figure.Figure at 0x7fcfb544d828>"
      ]
     },
     "metadata": {},
     "output_type": "display_data"
    }
   ],
   "source": [
    "ax = respondant_totals['total_pct'].hist(bins=50)\n",
    "ax.set_xlim((0.8, 1.2))"
   ]
  },
  {
   "cell_type": "code",
   "execution_count": 86,
   "metadata": {
    "collapsed": false
   },
   "outputs": [
    {
     "data": {
      "text/html": [
       "<div>\n",
       "<table border=\"1\" class=\"dataframe\">\n",
       "  <thead>\n",
       "    <tr style=\"text-align: right;\">\n",
       "      <th></th>\n",
       "      <th>pct_carbs</th>\n",
       "      <th>pct_fat</th>\n",
       "      <th>pct_protein</th>\n",
       "    </tr>\n",
       "  </thead>\n",
       "  <tbody>\n",
       "    <tr>\n",
       "      <th>count</th>\n",
       "      <td>8626.000000</td>\n",
       "      <td>8626.000000</td>\n",
       "      <td>8626.000000</td>\n",
       "    </tr>\n",
       "    <tr>\n",
       "      <th>mean</th>\n",
       "      <td>0.504392</td>\n",
       "      <td>0.337207</td>\n",
       "      <td>0.152987</td>\n",
       "    </tr>\n",
       "    <tr>\n",
       "      <th>std</th>\n",
       "      <td>0.109968</td>\n",
       "      <td>0.087597</td>\n",
       "      <td>0.054260</td>\n",
       "    </tr>\n",
       "    <tr>\n",
       "      <th>min</th>\n",
       "      <td>0.039144</td>\n",
       "      <td>0.000000</td>\n",
       "      <td>0.000000</td>\n",
       "    </tr>\n",
       "    <tr>\n",
       "      <th>25%</th>\n",
       "      <td>0.437921</td>\n",
       "      <td>0.282383</td>\n",
       "      <td>0.117507</td>\n",
       "    </tr>\n",
       "    <tr>\n",
       "      <th>50%</th>\n",
       "      <td>0.504380</td>\n",
       "      <td>0.339397</td>\n",
       "      <td>0.145117</td>\n",
       "    </tr>\n",
       "    <tr>\n",
       "      <th>75%</th>\n",
       "      <td>0.572875</td>\n",
       "      <td>0.393501</td>\n",
       "      <td>0.178991</td>\n",
       "    </tr>\n",
       "    <tr>\n",
       "      <th>max</th>\n",
       "      <td>1.034462</td>\n",
       "      <td>0.701525</td>\n",
       "      <td>0.548228</td>\n",
       "    </tr>\n",
       "  </tbody>\n",
       "</table>\n",
       "</div>"
      ],
      "text/plain": [
       "         pct_carbs      pct_fat  pct_protein\n",
       "count  8626.000000  8626.000000  8626.000000\n",
       "mean      0.504392     0.337207     0.152987\n",
       "std       0.109968     0.087597     0.054260\n",
       "min       0.039144     0.000000     0.000000\n",
       "25%       0.437921     0.282383     0.117507\n",
       "50%       0.504380     0.339397     0.145117\n",
       "75%       0.572875     0.393501     0.178991\n",
       "max       1.034462     0.701525     0.548228"
      ]
     },
     "execution_count": 86,
     "metadata": {},
     "output_type": "execute_result"
    }
   ],
   "source": [
    "respondant_totals[['pct_carbs', 'pct_fat', 'pct_protein']].dropna().describe()"
   ]
  },
  {
   "cell_type": "code",
   "execution_count": 83,
   "metadata": {
    "collapsed": true
   },
   "outputs": [],
   "source": [
    "import numpy as np"
   ]
  },
  {
   "cell_type": "code",
   "execution_count": 84,
   "metadata": {
    "collapsed": false
   },
   "outputs": [
    {
     "data": {
      "text/plain": [
       "False"
      ]
     },
     "execution_count": 84,
     "metadata": {},
     "output_type": "execute_result"
    }
   ],
   "source": [
    "t.isnull()"
   ]
  },
  {
   "cell_type": "code",
   "execution_count": 87,
   "metadata": {
    "collapsed": false
   },
   "outputs": [
    {
     "data": {
      "text/plain": [
       "Index(['Energy (kcal)', 'Protein (gm)', 'Carbohydrate (gm)',\n",
       "       'Total sugars (gm)', 'Dietary fiber (gm)', 'Total fat (gm)',\n",
       "       'pct_protein', 'pct_sugar', 'pct_fiber_of_carbs', 'pct_fat',\n",
       "       'pct_carbs', 'total_pct'],\n",
       "      dtype='object')"
      ]
     },
     "execution_count": 87,
     "metadata": {},
     "output_type": "execute_result"
    }
   ],
   "source": [
    "respondant_totals.columns"
   ]
  },
  {
   "cell_type": "code",
   "execution_count": 88,
   "metadata": {
    "collapsed": false
   },
   "outputs": [
    {
     "data": {
      "text/plain": [
       "array([[<matplotlib.axes._subplots.AxesSubplot object at 0x7fcfb57175f8>]], dtype=object)"
      ]
     },
     "execution_count": 88,
     "metadata": {},
     "output_type": "execute_result"
    },
    {
     "data": {
      "image/png": "[encoded data removed]",
      "text/plain": [
       "<matplotlib.figure.Figure at 0x7fcfb5239a90>"
      ]
     },
     "metadata": {},
     "output_type": "display_data"
    }
   ],
   "source": [
    "respondant_totals['pct_sugar_of_carbs'] = respondant_totals['Total sugars (gm)'] / respondant_totals['Carbohydrate (gm)']\n",
    "respondant_totals.hist('pct_sugar_of_carbs', bins=50)"
   ]
  },
  {
   "cell_type": "markdown",
   "metadata": {},
   "source": [
    "### Time of Day analysis"
   ]
  },
  {
   "cell_type": "code",
   "execution_count": 89,
   "metadata": {
    "collapsed": false
   },
   "outputs": [
    {
     "data": {
      "text/plain": [
       "array([[<matplotlib.axes._subplots.AxesSubplot object at 0x7fcfb5209e48>]], dtype=object)"
      ]
     },
     "execution_count": 89,
     "metadata": {},
     "output_type": "execute_result"
    },
    {
     "data": {
      "image/png": "[encoded data removed]",
      "text/plain": [
       "<matplotlib.figure.Figure at 0x7fcfb52395c0>"
      ]
     },
     "metadata": {},
     "output_type": "display_data"
    }
   ],
   "source": [
    "df.hist('Time of eating occasion (HH:MM)', bins=50)"
   ]
  },
  {
   "cell_type": "code",
   "execution_count": 92,
   "metadata": {
    "collapsed": false
   },
   "outputs": [
    {
     "data": {
      "text/plain": [
       "<matplotlib.axes._subplots.AxesSubplot at 0x7fcfb5573a58>"
      ]
     },
     "execution_count": 92,
     "metadata": {},
     "output_type": "execute_result"
    },
    {
     "data": {
      "image/png": "[encoded data removed]",
      "text/plain": [
       "<matplotlib.figure.Figure at 0x7fcfb545dda0>"
      ]
     },
     "metadata": {},
     "output_type": "display_data"
    }
   ],
   "source": [
    "df['Time of eating occasion (HH:MM)'].apply(lambda x: x/60/60).hist(bins=20)"
   ]
  },
  {
   "cell_type": "code",
   "execution_count": 90,
   "metadata": {
    "collapsed": false
   },
   "outputs": [
    {
     "data": {
      "text/plain": [
       "2409      37800.0\n",
       "113310    44100.0\n",
       "124655    25200.0\n",
       "95991     61200.0\n",
       "118973    50400.0\n",
       "32573     28800.0\n",
       "102145    44100.0\n",
       "104760    28800.0\n",
       "38939     36000.0\n",
       "51421     34200.0\n",
       "74271     69300.0\n",
       "89189     37800.0\n",
       "17496     64800.0\n",
       "11174     64800.0\n",
       "46384     34200.0\n",
       "39211     68400.0\n",
       "128620    50400.0\n",
       "4106      77400.0\n",
       "11601     77400.0\n",
       "125848    68400.0\n",
       "Name: Time of eating occasion (HH:MM), dtype: float64"
      ]
     },
     "execution_count": 90,
     "metadata": {},
     "output_type": "execute_result"
    }
   ],
   "source": [
    "df['Time of eating occasion (HH:MM)'].sample(20)"
   ]
  },
  {
   "cell_type": "code",
   "execution_count": 93,
   "metadata": {
    "collapsed": false
   },
   "outputs": [
    {
     "data": {
      "text/plain": [
       "count    131394.000000\n",
       "mean         14.302189\n",
       "std           4.742541\n",
       "min           0.000000\n",
       "25%          10.750000\n",
       "50%          14.000000\n",
       "75%          18.500000\n",
       "max          23.983333\n",
       "Name: time_of_eating_hours, dtype: float64"
      ]
     },
     "execution_count": 93,
     "metadata": {},
     "output_type": "execute_result"
    }
   ],
   "source": [
    "df['time_of_eating_hours'] = df['Time of eating occasion (HH:MM)'] / 60 /60\n",
    "df['time_of_eating_hours'].describe()"
   ]
  },
  {
   "cell_type": "code",
   "execution_count": 96,
   "metadata": {
    "collapsed": false
   },
   "outputs": [
    {
     "data": {
      "text/plain": [
       "<matplotlib.axes._subplots.AxesSubplot at 0x7fcfb4eb5860>"
      ]
     },
     "execution_count": 96,
     "metadata": {},
     "output_type": "execute_result"
    },
    {
     "data": {
      "image/png": "[encoded data removed]",
      "text/plain": [
       "<matplotlib.figure.Figure at 0x7fcfaa4c42e8>"
      ]
     },
     "metadata": {},
     "output_type": "display_data"
    }
   ],
   "source": [
    "df.plot(x='time_of_eating_hours', y='Energy (kcal)', marker='o', linewidth=0)"
   ]
  },
  {
   "cell_type": "code",
   "execution_count": 97,
   "metadata": {
    "collapsed": true
   },
   "outputs": [],
   "source": [
    "def meal_time(time):\n",
    "    if time < 9:\n",
    "        return \"1-Breakfast\"\n",
    "    elif time < 11:\n",
    "        return \"2-Morning Snack\"\n",
    "    elif time < 14:\n",
    "        return \"3-Lunch\"\n",
    "    elif time < 16:\n",
    "        return \"4-Afternoon Snack\"\n",
    "    elif time < 19:\n",
    "        return \"5-Dinner\"\n",
    "    elif time < 24:\n",
    "        return \"6-Evening Snack\"\n",
    "    else:\n",
    "        return \"Other\""
   ]
  },
  {
   "cell_type": "code",
   "execution_count": 99,
   "metadata": {
    "collapsed": false
   },
   "outputs": [
    {
     "data": {
      "text/html": [
       "<div>\n",
       "<table border=\"1\" class=\"dataframe\">\n",
       "  <thead>\n",
       "    <tr style=\"text-align: right;\">\n",
       "      <th></th>\n",
       "      <th>Respondent sequence number</th>\n",
       "      <th>Dietary day one sample weight</th>\n",
       "      <th>Dietary two-day sample weight</th>\n",
       "      <th>Food/Individual component number</th>\n",
       "      <th>Dietary recall status</th>\n",
       "      <th>Interviewer ID code</th>\n",
       "      <th>Breast-fed infant (either day)</th>\n",
       "      <th>Number of days of intake</th>\n",
       "      <th># of days b/w intake and HH interview</th>\n",
       "      <th>Intake day of the week</th>\n",
       "      <th>...</th>\n",
       "      <th>PFA 18:3 (Octadecatrienoic) (gm)</th>\n",
       "      <th>PFA 18:4 (Octadecatetraenoic) (gm)</th>\n",
       "      <th>PFA 20:4 (Eicosatetraenoic) (gm)</th>\n",
       "      <th>PFA 20:5 (Eicosapentaenoic) (gm)</th>\n",
       "      <th>PFA 22:5 (Docosapentaenoic) (gm)</th>\n",
       "      <th>PFA 22:6 (Docosahexaenoic) (gm)</th>\n",
       "      <th>DRXFDCD</th>\n",
       "      <th>DRXFCSD</th>\n",
       "      <th>DRXFCLD</th>\n",
       "      <th>time_of_eating_hours</th>\n",
       "    </tr>\n",
       "    <tr>\n",
       "      <th>meal_grp</th>\n",
       "      <th></th>\n",
       "      <th></th>\n",
       "      <th></th>\n",
       "      <th></th>\n",
       "      <th></th>\n",
       "      <th></th>\n",
       "      <th></th>\n",
       "      <th></th>\n",
       "      <th></th>\n",
       "      <th></th>\n",
       "      <th></th>\n",
       "      <th></th>\n",
       "      <th></th>\n",
       "      <th></th>\n",
       "      <th></th>\n",
       "      <th></th>\n",
       "      <th></th>\n",
       "      <th></th>\n",
       "      <th></th>\n",
       "      <th></th>\n",
       "      <th></th>\n",
       "    </tr>\n",
       "  </thead>\n",
       "  <tbody>\n",
       "    <tr>\n",
       "      <th>1-Breakfast</th>\n",
       "      <td>19328</td>\n",
       "      <td>19328</td>\n",
       "      <td>19328</td>\n",
       "      <td>19328</td>\n",
       "      <td>19328</td>\n",
       "      <td>19328</td>\n",
       "      <td>19328</td>\n",
       "      <td>19328</td>\n",
       "      <td>19180</td>\n",
       "      <td>19328</td>\n",
       "      <td>...</td>\n",
       "      <td>19109</td>\n",
       "      <td>19109</td>\n",
       "      <td>19109</td>\n",
       "      <td>19109</td>\n",
       "      <td>19109</td>\n",
       "      <td>19109</td>\n",
       "      <td>19328</td>\n",
       "      <td>19328</td>\n",
       "      <td>19328</td>\n",
       "      <td>19328</td>\n",
       "    </tr>\n",
       "    <tr>\n",
       "      <th>2-Morning Snack</th>\n",
       "      <td>13615</td>\n",
       "      <td>13615</td>\n",
       "      <td>13615</td>\n",
       "      <td>13615</td>\n",
       "      <td>13615</td>\n",
       "      <td>13615</td>\n",
       "      <td>13615</td>\n",
       "      <td>13615</td>\n",
       "      <td>13493</td>\n",
       "      <td>13615</td>\n",
       "      <td>...</td>\n",
       "      <td>13553</td>\n",
       "      <td>13553</td>\n",
       "      <td>13553</td>\n",
       "      <td>13553</td>\n",
       "      <td>13553</td>\n",
       "      <td>13553</td>\n",
       "      <td>13615</td>\n",
       "      <td>13615</td>\n",
       "      <td>13615</td>\n",
       "      <td>13615</td>\n",
       "    </tr>\n",
       "    <tr>\n",
       "      <th>3-Lunch</th>\n",
       "      <td>29701</td>\n",
       "      <td>29701</td>\n",
       "      <td>29701</td>\n",
       "      <td>29701</td>\n",
       "      <td>29701</td>\n",
       "      <td>29701</td>\n",
       "      <td>29701</td>\n",
       "      <td>29701</td>\n",
       "      <td>29407</td>\n",
       "      <td>29701</td>\n",
       "      <td>...</td>\n",
       "      <td>29614</td>\n",
       "      <td>29614</td>\n",
       "      <td>29614</td>\n",
       "      <td>29614</td>\n",
       "      <td>29614</td>\n",
       "      <td>29614</td>\n",
       "      <td>29701</td>\n",
       "      <td>29701</td>\n",
       "      <td>29701</td>\n",
       "      <td>29701</td>\n",
       "    </tr>\n",
       "    <tr>\n",
       "      <th>4-Afternoon Snack</th>\n",
       "      <td>12779</td>\n",
       "      <td>12779</td>\n",
       "      <td>12779</td>\n",
       "      <td>12779</td>\n",
       "      <td>12779</td>\n",
       "      <td>12779</td>\n",
       "      <td>12779</td>\n",
       "      <td>12779</td>\n",
       "      <td>12678</td>\n",
       "      <td>12779</td>\n",
       "      <td>...</td>\n",
       "      <td>12718</td>\n",
       "      <td>12718</td>\n",
       "      <td>12718</td>\n",
       "      <td>12718</td>\n",
       "      <td>12718</td>\n",
       "      <td>12718</td>\n",
       "      <td>12779</td>\n",
       "      <td>12779</td>\n",
       "      <td>12779</td>\n",
       "      <td>12779</td>\n",
       "    </tr>\n",
       "    <tr>\n",
       "      <th>5-Dinner</th>\n",
       "      <td>26444</td>\n",
       "      <td>26444</td>\n",
       "      <td>26444</td>\n",
       "      <td>26444</td>\n",
       "      <td>26444</td>\n",
       "      <td>26444</td>\n",
       "      <td>26444</td>\n",
       "      <td>26444</td>\n",
       "      <td>26213</td>\n",
       "      <td>26444</td>\n",
       "      <td>...</td>\n",
       "      <td>26356</td>\n",
       "      <td>26356</td>\n",
       "      <td>26356</td>\n",
       "      <td>26356</td>\n",
       "      <td>26356</td>\n",
       "      <td>26356</td>\n",
       "      <td>26444</td>\n",
       "      <td>26444</td>\n",
       "      <td>26444</td>\n",
       "      <td>26444</td>\n",
       "    </tr>\n",
       "    <tr>\n",
       "      <th>6-Evening Snack</th>\n",
       "      <td>29527</td>\n",
       "      <td>29527</td>\n",
       "      <td>29527</td>\n",
       "      <td>29527</td>\n",
       "      <td>29527</td>\n",
       "      <td>29527</td>\n",
       "      <td>29527</td>\n",
       "      <td>29527</td>\n",
       "      <td>29262</td>\n",
       "      <td>29527</td>\n",
       "      <td>...</td>\n",
       "      <td>29348</td>\n",
       "      <td>29348</td>\n",
       "      <td>29348</td>\n",
       "      <td>29348</td>\n",
       "      <td>29348</td>\n",
       "      <td>29348</td>\n",
       "      <td>29527</td>\n",
       "      <td>29527</td>\n",
       "      <td>29527</td>\n",
       "      <td>29527</td>\n",
       "    </tr>\n",
       "  </tbody>\n",
       "</table>\n",
       "<p>6 rows × 88 columns</p>\n",
       "</div>"
      ],
      "text/plain": [
       "                   Respondent sequence number  Dietary day one sample weight  \\\n",
       "meal_grp                                                                       \n",
       "1-Breakfast                             19328                          19328   \n",
       "2-Morning Snack                         13615                          13615   \n",
       "3-Lunch                                 29701                          29701   \n",
       "4-Afternoon Snack                       12779                          12779   \n",
       "5-Dinner                                26444                          26444   \n",
       "6-Evening Snack                         29527                          29527   \n",
       "\n",
       "                   Dietary two-day sample weight  \\\n",
       "meal_grp                                           \n",
       "1-Breakfast                                19328   \n",
       "2-Morning Snack                            13615   \n",
       "3-Lunch                                    29701   \n",
       "4-Afternoon Snack                          12779   \n",
       "5-Dinner                                   26444   \n",
       "6-Evening Snack                            29527   \n",
       "\n",
       "                   Food/Individual component number  Dietary recall status  \\\n",
       "meal_grp                                                                     \n",
       "1-Breakfast                                   19328                  19328   \n",
       "2-Morning Snack                               13615                  13615   \n",
       "3-Lunch                                       29701                  29701   \n",
       "4-Afternoon Snack                             12779                  12779   \n",
       "5-Dinner                                      26444                  26444   \n",
       "6-Evening Snack                               29527                  29527   \n",
       "\n",
       "                   Interviewer ID code  Breast-fed infant (either day)  \\\n",
       "meal_grp                                                                 \n",
       "1-Breakfast                      19328                           19328   \n",
       "2-Morning Snack                  13615                           13615   \n",
       "3-Lunch                          29701                           29701   \n",
       "4-Afternoon Snack                12779                           12779   \n",
       "5-Dinner                         26444                           26444   \n",
       "6-Evening Snack                  29527                           29527   \n",
       "\n",
       "                   Number of days of intake  \\\n",
       "meal_grp                                      \n",
       "1-Breakfast                           19328   \n",
       "2-Morning Snack                       13615   \n",
       "3-Lunch                               29701   \n",
       "4-Afternoon Snack                     12779   \n",
       "5-Dinner                              26444   \n",
       "6-Evening Snack                       29527   \n",
       "\n",
       "                   # of days b/w intake and HH interview  \\\n",
       "meal_grp                                                   \n",
       "1-Breakfast                                        19180   \n",
       "2-Morning Snack                                    13493   \n",
       "3-Lunch                                            29407   \n",
       "4-Afternoon Snack                                  12678   \n",
       "5-Dinner                                           26213   \n",
       "6-Evening Snack                                    29262   \n",
       "\n",
       "                   Intake day of the week          ...           \\\n",
       "meal_grp                                           ...            \n",
       "1-Breakfast                         19328          ...            \n",
       "2-Morning Snack                     13615          ...            \n",
       "3-Lunch                             29701          ...            \n",
       "4-Afternoon Snack                   12779          ...            \n",
       "5-Dinner                            26444          ...            \n",
       "6-Evening Snack                     29527          ...            \n",
       "\n",
       "                   PFA 18:3 (Octadecatrienoic) (gm)  \\\n",
       "meal_grp                                              \n",
       "1-Breakfast                                   19109   \n",
       "2-Morning Snack                               13553   \n",
       "3-Lunch                                       29614   \n",
       "4-Afternoon Snack                             12718   \n",
       "5-Dinner                                      26356   \n",
       "6-Evening Snack                               29348   \n",
       "\n",
       "                   PFA 18:4 (Octadecatetraenoic) (gm)  \\\n",
       "meal_grp                                                \n",
       "1-Breakfast                                     19109   \n",
       "2-Morning Snack                                 13553   \n",
       "3-Lunch                                         29614   \n",
       "4-Afternoon Snack                               12718   \n",
       "5-Dinner                                        26356   \n",
       "6-Evening Snack                                 29348   \n",
       "\n",
       "                   PFA 20:4 (Eicosatetraenoic) (gm)  \\\n",
       "meal_grp                                              \n",
       "1-Breakfast                                   19109   \n",
       "2-Morning Snack                               13553   \n",
       "3-Lunch                                       29614   \n",
       "4-Afternoon Snack                             12718   \n",
       "5-Dinner                                      26356   \n",
       "6-Evening Snack                               29348   \n",
       "\n",
       "                   PFA 20:5 (Eicosapentaenoic) (gm)  \\\n",
       "meal_grp                                              \n",
       "1-Breakfast                                   19109   \n",
       "2-Morning Snack                               13553   \n",
       "3-Lunch                                       29614   \n",
       "4-Afternoon Snack                             12718   \n",
       "5-Dinner                                      26356   \n",
       "6-Evening Snack                               29348   \n",
       "\n",
       "                   PFA 22:5 (Docosapentaenoic) (gm)  \\\n",
       "meal_grp                                              \n",
       "1-Breakfast                                   19109   \n",
       "2-Morning Snack                               13553   \n",
       "3-Lunch                                       29614   \n",
       "4-Afternoon Snack                             12718   \n",
       "5-Dinner                                      26356   \n",
       "6-Evening Snack                               29348   \n",
       "\n",
       "                   PFA 22:6 (Docosahexaenoic) (gm)  DRXFDCD  DRXFCSD  DRXFCLD  \\\n",
       "meal_grp                                                                        \n",
       "1-Breakfast                                  19109    19328    19328    19328   \n",
       "2-Morning Snack                              13553    13615    13615    13615   \n",
       "3-Lunch                                      29614    29701    29701    29701   \n",
       "4-Afternoon Snack                            12718    12779    12779    12779   \n",
       "5-Dinner                                     26356    26444    26444    26444   \n",
       "6-Evening Snack                              29348    29527    29527    29527   \n",
       "\n",
       "                   time_of_eating_hours  \n",
       "meal_grp                                 \n",
       "1-Breakfast                       19328  \n",
       "2-Morning Snack                   13615  \n",
       "3-Lunch                           29701  \n",
       "4-Afternoon Snack                 12779  \n",
       "5-Dinner                          26444  \n",
       "6-Evening Snack                   29527  \n",
       "\n",
       "[6 rows x 88 columns]"
      ]
     },
     "execution_count": 99,
     "metadata": {},
     "output_type": "execute_result"
    }
   ],
   "source": [
    "df['meal_grp'] = df['time_of_eating_hours'].apply(meal_time)\n",
    "df.groupby('meal_grp').count()"
   ]
  },
  {
   "cell_type": "code",
   "execution_count": 101,
   "metadata": {
    "collapsed": false
   },
   "outputs": [
    {
     "data": {
      "text/plain": [
       "Respondent sequence number  meal_grp         \n",
       "73557.0                     1-Breakfast           450.0\n",
       "                            2-Morning Snack        62.0\n",
       "                            3-Lunch               210.0\n",
       "                            5-Dinner              155.0\n",
       "                            6-Evening Snack       697.0\n",
       "73558.0                     3-Lunch              2972.0\n",
       "                            4-Afternoon Snack    1867.0\n",
       "                            6-Evening Snack       223.0\n",
       "73559.0                     1-Breakfast           399.0\n",
       "                            2-Morning Snack       275.0\n",
       "                            3-Lunch               325.0\n",
       "                            4-Afternoon Snack       0.0\n",
       "                            5-Dinner              740.0\n",
       "                            6-Evening Snack         4.0\n",
       "73560.0                     1-Breakfast           296.0\n",
       "                            3-Lunch               472.0\n",
       "                            5-Dinner              722.0\n",
       "73561.0                     1-Breakfast           538.0\n",
       "                            3-Lunch               353.0\n",
       "                            6-Evening Snack       530.0\n",
       "73562.0                     1-Breakfast           463.0\n",
       "                            3-Lunch               688.0\n",
       "                            5-Dinner              634.0\n",
       "73563.0                     1-Breakfast           168.0\n",
       "                            2-Morning Snack       137.0\n",
       "                            4-Afternoon Snack       NaN\n",
       "                            5-Dinner               51.0\n",
       "                            6-Evening Snack       137.0\n",
       "73564.0                     1-Breakfast           172.0\n",
       "                            2-Morning Snack         0.0\n",
       "                                                  ...  \n",
       "83722.0                     6-Evening Snack       234.0\n",
       "83723.0                     1-Breakfast           521.0\n",
       "                            2-Morning Snack         0.0\n",
       "                            5-Dinner              771.0\n",
       "                            6-Evening Snack       889.0\n",
       "83724.0                     1-Breakfast             0.0\n",
       "                            2-Morning Snack       555.0\n",
       "                            3-Lunch               766.0\n",
       "                            5-Dinner             1111.0\n",
       "                            6-Evening Snack         0.0\n",
       "83727.0                     1-Breakfast          1251.0\n",
       "                            3-Lunch              1382.0\n",
       "                            5-Dinner             1034.0\n",
       "                            6-Evening Snack      1020.0\n",
       "83728.0                     1-Breakfast           168.0\n",
       "                            2-Morning Snack        21.0\n",
       "                            3-Lunch               329.0\n",
       "                            4-Afternoon Snack     251.0\n",
       "                            5-Dinner              132.0\n",
       "                            6-Evening Snack       352.0\n",
       "83729.0                     1-Breakfast           470.0\n",
       "                            2-Morning Snack         0.0\n",
       "                            3-Lunch               843.0\n",
       "                            5-Dinner             1015.0\n",
       "                            6-Evening Snack       147.0\n",
       "83731.0                     1-Breakfast           583.0\n",
       "                            2-Morning Snack       938.0\n",
       "                            4-Afternoon Snack     720.0\n",
       "                            5-Dinner               36.0\n",
       "                            6-Evening Snack       600.0\n",
       "Name: Energy (kcal), dtype: float64"
      ]
     },
     "execution_count": 101,
     "metadata": {},
     "output_type": "execute_result"
    }
   ],
   "source": [
    "cal_per_meal = df.groupby(['Respondent sequence number', 'meal_grp'])['Energy (kcal)'].sum()\n",
    "cal_per_meal"
   ]
  },
  {
   "cell_type": "code",
   "execution_count": 105,
   "metadata": {
    "collapsed": false
   },
   "outputs": [
    {
     "data": {
      "text/plain": [
       "(0, 2000)"
      ]
     },
     "execution_count": 105,
     "metadata": {},
     "output_type": "execute_result"
    },
    {
     "data": {
      "image/png": "[encoded data removed]",
      "text/plain": [
       "<matplotlib.figure.Figure at 0x7fcfb4f20208>"
      ]
     },
     "metadata": {},
     "output_type": "display_data"
    }
   ],
   "source": [
    "ax = cal_per_meal.reset_index().boxplot('Energy (kcal)', by='meal_grp')\n",
    "ax.set_ylim((0, 2000))"
   ]
  },
  {
   "cell_type": "markdown",
   "metadata": {},
   "source": [
    "## Other"
   ]
  },
  {
   "cell_type": "code",
   "execution_count": 106,
   "metadata": {
    "collapsed": false
   },
   "outputs": [
    {
     "data": {
      "text/plain": [
       "array([  2.,   1.,   9.,  nan])"
      ]
     },
     "execution_count": 106,
     "metadata": {},
     "output_type": "execute_result"
    }
   ],
   "source": [
    "df['Did you eat this meal at home?'].unique()"
   ]
  },
  {
   "cell_type": "code",
   "execution_count": 108,
   "metadata": {
    "collapsed": false
   },
   "outputs": [
    {
     "data": {
      "text/plain": [
       "(0, 1000)"
      ]
     },
     "execution_count": 108,
     "metadata": {},
     "output_type": "execute_result"
    },
    {
     "data": {
      "image/png": "[encoded data removed]",
      "text/plain": [
       "<matplotlib.figure.Figure at 0x7fcfb4054240>"
      ]
     },
     "metadata": {},
     "output_type": "display_data"
    }
   ],
   "source": [
    "ax = df.boxplot('Energy (kcal)', by='Did you eat this meal at home?')\n",
    "ax.set_ylim((0, 1000))"
   ]
  },
  {
   "cell_type": "code",
   "execution_count": null,
   "metadata": {
    "collapsed": true
   },
   "outputs": [],
   "source": []
  }
 ],
 "metadata": {
  "anaconda-cloud": {},
  "kernelspec": {
   "display_name": "Python [conda root]",
   "language": "python",
   "name": "conda-root-py"
  },
  "language_info": {
   "codemirror_mode": {
    "name": "ipython",
    "version": 3
   },
   "file_extension": ".py",
   "mimetype": "text/x-python",
   "name": "python",
   "nbconvert_exporter": "python",
   "pygments_lexer": "ipython3",
   "version": "3.5.2"
  }
 },
 "nbformat": 4,
 "nbformat_minor": 1
}
